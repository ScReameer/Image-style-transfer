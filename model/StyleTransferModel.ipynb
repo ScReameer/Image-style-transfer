{
 "cells": [
  {
   "cell_type": "code",
   "execution_count": 1,
   "metadata": {},
   "outputs": [
    {
     "data": {
      "text/plain": [
       "[PhysicalDevice(name='/physical_device:CPU:0', device_type='CPU'),\n",
       " PhysicalDevice(name='/physical_device:GPU:0', device_type='GPU')]"
      ]
     },
     "execution_count": 1,
     "metadata": {},
     "output_type": "execute_result"
    }
   ],
   "source": [
    "import os\n",
    "os.environ['TF_CPP_MIN_LOG_LEVEL'] = '3' \n",
    "import keras\n",
    "import tensorflow as tf\n",
    "from net.style_autoencoder import StyleTransfer\n",
    "IMAGES_FOLDER = '/mnt/s/CV/StyleTransferData/'\n",
    "CONTENT_FOLDER = os.path.join(IMAGES_FOLDER, 'test2015')\n",
    "STYLE_FOLDER = os.path.join(IMAGES_FOLDER, 'wikiart_styles')\n",
    "BATCH_SIZE = 8\n",
    "EPOCHS = 15\n",
    "IMG_SIZE = (256, 256)\n",
    "tf.config.list_physical_devices()"
   ]
  },
  {
   "cell_type": "code",
   "execution_count": 2,
   "metadata": {},
   "outputs": [],
   "source": [
    "def delete_corrupted_imgs(path):\n",
    "    \n",
    "    def remove(file):\n",
    "        print('=='*10)\n",
    "        os.remove(os.path.join(path, file))\n",
    "        print(f'Deleted corrupted {file}')\n",
    "        \n",
    "    files = os.listdir(path)\n",
    "    for file in files:\n",
    "        try:\n",
    "            img = tf.io.decode_jpeg(tf.io.read_file(os.path.join(path, file)))\n",
    "            if img is None:\n",
    "                remove(file)\n",
    "        except Exception as e:\n",
    "            remove(file)\n",
    "\n",
    "# delete_corrupted_imgs(STYLE_FOLDER)\n",
    "# delete_corrupted_imgs(CONTENT_FOLDER)"
   ]
  },
  {
   "cell_type": "code",
   "execution_count": 3,
   "metadata": {},
   "outputs": [
    {
     "name": "stdout",
     "output_type": "stream",
     "text": [
      "Found 81434 files.\n",
      "Found 79412 files.\n"
     ]
    }
   ],
   "source": [
    "dataset_config = dict(\n",
    "    label_mode=None, \n",
    "    labels=None,\n",
    "    shuffle=True,\n",
    "    image_size=IMG_SIZE,\n",
    "    batch_size=None,\n",
    "    crop_to_aspect_ratio=True\n",
    ")\n",
    "\n",
    "content_dataset = keras.utils.image_dataset_from_directory(\n",
    "    CONTENT_FOLDER,\n",
    "    **dataset_config\n",
    ")\n",
    "style_dataset = keras.utils.image_dataset_from_directory(\n",
    "    STYLE_FOLDER,\n",
    "    **dataset_config\n",
    ")\n",
    "\n",
    "dataset = tf.data.Dataset.zip((content_dataset, style_dataset)).batch(BATCH_SIZE, drop_remainder=True)"
   ]
  },
  {
   "cell_type": "code",
   "execution_count": 4,
   "metadata": {},
   "outputs": [
    {
     "data": {
      "text/html": [
       "<pre style=\"white-space:pre;overflow-x:auto;line-height:normal;font-family:Menlo,'DejaVu Sans Mono',consolas,'Courier New',monospace\"><span style=\"font-weight: bold\">Model: \"style_transfer\"</span>\n",
       "</pre>\n"
      ],
      "text/plain": [
       "\u001b[1mModel: \"style_transfer\"\u001b[0m\n"
      ]
     },
     "metadata": {},
     "output_type": "display_data"
    },
    {
     "data": {
      "text/html": [
       "<pre style=\"white-space:pre;overflow-x:auto;line-height:normal;font-family:Menlo,'DejaVu Sans Mono',consolas,'Courier New',monospace\">┏━━━━━━━━━━━━━━━━━━━━━━━━━━━━━━━━━┳━━━━━━━━━━━━━━━━━━━━━━━━┳━━━━━━━━━━━━━━━┓\n",
       "┃<span style=\"font-weight: bold\"> Layer (type)                    </span>┃<span style=\"font-weight: bold\"> Output Shape           </span>┃<span style=\"font-weight: bold\">       Param # </span>┃\n",
       "┡━━━━━━━━━━━━━━━━━━━━━━━━━━━━━━━━━╇━━━━━━━━━━━━━━━━━━━━━━━━╇━━━━━━━━━━━━━━━┩\n",
       "│ ada_in (<span style=\"color: #0087ff; text-decoration-color: #0087ff\">AdaIN</span>)                  │ ?                      │             <span style=\"color: #00af00; text-decoration-color: #00af00\">0</span> │\n",
       "├─────────────────────────────────┼────────────────────────┼───────────────┤\n",
       "│ encoder (<span style=\"color: #0087ff; text-decoration-color: #0087ff\">Encoder</span>)               │ ?                      │     <span style=\"color: #00af00; text-decoration-color: #00af00\">3,505,728</span> │\n",
       "├─────────────────────────────────┼────────────────────────┼───────────────┤\n",
       "│ decoder (<span style=\"color: #0087ff; text-decoration-color: #0087ff\">Decoder</span>)               │ ?                      │     <span style=\"color: #00af00; text-decoration-color: #00af00\">3,505,219</span> │\n",
       "└─────────────────────────────────┴────────────────────────┴───────────────┘\n",
       "</pre>\n"
      ],
      "text/plain": [
       "┏━━━━━━━━━━━━━━━━━━━━━━━━━━━━━━━━━┳━━━━━━━━━━━━━━━━━━━━━━━━┳━━━━━━━━━━━━━━━┓\n",
       "┃\u001b[1m \u001b[0m\u001b[1mLayer (type)                   \u001b[0m\u001b[1m \u001b[0m┃\u001b[1m \u001b[0m\u001b[1mOutput Shape          \u001b[0m\u001b[1m \u001b[0m┃\u001b[1m \u001b[0m\u001b[1m      Param #\u001b[0m\u001b[1m \u001b[0m┃\n",
       "┡━━━━━━━━━━━━━━━━━━━━━━━━━━━━━━━━━╇━━━━━━━━━━━━━━━━━━━━━━━━╇━━━━━━━━━━━━━━━┩\n",
       "│ ada_in (\u001b[38;5;33mAdaIN\u001b[0m)                  │ ?                      │             \u001b[38;5;34m0\u001b[0m │\n",
       "├─────────────────────────────────┼────────────────────────┼───────────────┤\n",
       "│ encoder (\u001b[38;5;33mEncoder\u001b[0m)               │ ?                      │     \u001b[38;5;34m3,505,728\u001b[0m │\n",
       "├─────────────────────────────────┼────────────────────────┼───────────────┤\n",
       "│ decoder (\u001b[38;5;33mDecoder\u001b[0m)               │ ?                      │     \u001b[38;5;34m3,505,219\u001b[0m │\n",
       "└─────────────────────────────────┴────────────────────────┴───────────────┘\n"
      ]
     },
     "metadata": {},
     "output_type": "display_data"
    },
    {
     "data": {
      "text/html": [
       "<pre style=\"white-space:pre;overflow-x:auto;line-height:normal;font-family:Menlo,'DejaVu Sans Mono',consolas,'Courier New',monospace\"><span style=\"font-weight: bold\"> Total params: </span><span style=\"color: #00af00; text-decoration-color: #00af00\">7,010,947</span> (26.74 MB)\n",
       "</pre>\n"
      ],
      "text/plain": [
       "\u001b[1m Total params: \u001b[0m\u001b[38;5;34m7,010,947\u001b[0m (26.74 MB)\n"
      ]
     },
     "metadata": {},
     "output_type": "display_data"
    },
    {
     "data": {
      "text/html": [
       "<pre style=\"white-space:pre;overflow-x:auto;line-height:normal;font-family:Menlo,'DejaVu Sans Mono',consolas,'Courier New',monospace\"><span style=\"font-weight: bold\"> Trainable params: </span><span style=\"color: #00af00; text-decoration-color: #00af00\">3,505,219</span> (13.37 MB)\n",
       "</pre>\n"
      ],
      "text/plain": [
       "\u001b[1m Trainable params: \u001b[0m\u001b[38;5;34m3,505,219\u001b[0m (13.37 MB)\n"
      ]
     },
     "metadata": {},
     "output_type": "display_data"
    },
    {
     "data": {
      "text/html": [
       "<pre style=\"white-space:pre;overflow-x:auto;line-height:normal;font-family:Menlo,'DejaVu Sans Mono',consolas,'Courier New',monospace\"><span style=\"font-weight: bold\"> Non-trainable params: </span><span style=\"color: #00af00; text-decoration-color: #00af00\">3,505,728</span> (13.37 MB)\n",
       "</pre>\n"
      ],
      "text/plain": [
       "\u001b[1m Non-trainable params: \u001b[0m\u001b[38;5;34m3,505,728\u001b[0m (13.37 MB)\n"
      ]
     },
     "metadata": {},
     "output_type": "display_data"
    }
   ],
   "source": [
    "model = StyleTransfer()\n",
    "optimizer = keras.optimizers.Adam(\n",
    "    learning_rate=keras.optimizers.schedules.InverseTimeDecay(\n",
    "        initial_learning_rate=1e-4,\n",
    "        decay_steps=10,\n",
    "        decay_rate=5e-5\n",
    "    )\n",
    ")\n",
    "loss_fn = keras.losses.MeanSquaredError()\n",
    "model.compile(optimizer=optimizer, loss_fn=loss_fn)\n",
    "model.summary()"
   ]
  },
  {
   "cell_type": "code",
   "execution_count": 5,
   "metadata": {},
   "outputs": [
    {
     "name": "stdout",
     "output_type": "stream",
     "text": [
      "Epoch 1/15\n"
     ]
    },
    {
     "name": "stderr",
     "output_type": "stream",
     "text": [
      "WARNING: All log messages before absl::InitializeLog() is called are written to STDERR\n",
      "I0000 00:00:1710118354.633926    2179 device_compiler.h:186] Compiled cluster using XLA!  This line is logged at most once for the lifetime of the process.\n"
     ]
    },
    {
     "name": "stdout",
     "output_type": "stream",
     "text": [
      "\u001b[1m 899/9926\u001b[0m \u001b[32m━\u001b[0m\u001b[37m━━━━━━━━━━━━━━━━━━━\u001b[0m \u001b[1m14:36\u001b[0m 97ms/step - content_loss: 706071.1250 - learning_rate: 9.9887e-05 - style_loss: 2570429.7500 - total_loss: 3276501.0000"
     ]
    },
    {
     "name": "stderr",
     "output_type": "stream",
     "text": [
      "Corrupt JPEG data: premature end of data segment\n"
     ]
    },
    {
     "name": "stdout",
     "output_type": "stream",
     "text": [
      "\u001b[1m2254/9926\u001b[0m \u001b[32m━━━━\u001b[0m\u001b[37m━━━━━━━━━━━━━━━━\u001b[0m \u001b[1m12:13\u001b[0m 96ms/step - content_loss: 610571.8750 - learning_rate: 9.9719e-05 - style_loss: 1694251.5000 - total_loss: 2304824.5000"
     ]
    },
    {
     "name": "stderr",
     "output_type": "stream",
     "text": [
      "Corrupt JPEG data: premature end of data segment\n"
     ]
    },
    {
     "name": "stdout",
     "output_type": "stream",
     "text": [
      "\u001b[1m7815/9926\u001b[0m \u001b[32m━━━━━━━━━━━━━━━\u001b[0m\u001b[37m━━━━━\u001b[0m \u001b[1m3:20\u001b[0m 95ms/step - content_loss: 488071.7188 - learning_rate: 9.9039e-05 - style_loss: 972050.9375 - total_loss: 1460123.3750"
     ]
    },
    {
     "name": "stderr",
     "output_type": "stream",
     "text": [
      "Corrupt JPEG data: 9 extraneous bytes before marker 0xda\n"
     ]
    },
    {
     "name": "stdout",
     "output_type": "stream",
     "text": [
      "\u001b[1m8979/9926\u001b[0m \u001b[32m━━━━━━━━━━━━━━━━━━\u001b[0m\u001b[37m━━\u001b[0m \u001b[1m1:30\u001b[0m 95ms/step - content_loss: 474889.8125 - learning_rate: 9.8899e-05 - style_loss: 915619.6250 - total_loss: 1390510.1250"
     ]
    },
    {
     "name": "stderr",
     "output_type": "stream",
     "text": [
      "Corrupt JPEG data: premature end of data segment\n"
     ]
    },
    {
     "name": "stdout",
     "output_type": "stream",
     "text": [
      "\u001b[1m9721/9926\u001b[0m \u001b[32m━━━━━━━━━━━━━━━━━━━\u001b[0m\u001b[37m━\u001b[0m \u001b[1m19s\u001b[0m 95ms/step - content_loss: 467464.0312 - learning_rate: 9.8810e-05 - style_loss: 885210.8750 - total_loss: 1352675.6250"
     ]
    },
    {
     "name": "stderr",
     "output_type": "stream",
     "text": [
      "Corrupt JPEG data: 419 extraneous bytes before marker 0xd9\n"
     ]
    },
    {
     "name": "stdout",
     "output_type": "stream",
     "text": [
      "\u001b[1m9926/9926\u001b[0m \u001b[32m━━━━━━━━━━━━━━━━━━━━\u001b[0m\u001b[37m\u001b[0m \u001b[1m971s\u001b[0m 95ms/step - content_loss: 465519.7500 - learning_rate: 9.8785e-05 - style_loss: 877402.7500 - total_loss: 1342923.2500\n",
      "Epoch 2/15\n",
      "\u001b[1m 899/9926\u001b[0m \u001b[32m━\u001b[0m\u001b[37m━━━━━━━━━━━━━━━━━━━\u001b[0m \u001b[1m14:35\u001b[0m 97ms/step - content_loss: 297006.3438 - learning_rate: 9.5170e-05 - style_loss: 333999.9688 - total_loss: 631006.3750"
     ]
    },
    {
     "name": "stderr",
     "output_type": "stream",
     "text": [
      "Corrupt JPEG data: premature end of data segment\n"
     ]
    },
    {
     "name": "stdout",
     "output_type": "stream",
     "text": [
      "\u001b[1m2254/9926\u001b[0m \u001b[32m━━━━\u001b[0m\u001b[37m━━━━━━━━━━━━━━━━\u001b[0m \u001b[1m12:20\u001b[0m 96ms/step - content_loss: 291799.3750 - learning_rate: 9.5017e-05 - style_loss: 325961.0312 - total_loss: 617760.5625"
     ]
    },
    {
     "name": "stderr",
     "output_type": "stream",
     "text": [
      "Corrupt JPEG data: premature end of data segment\n"
     ]
    },
    {
     "name": "stdout",
     "output_type": "stream",
     "text": [
      "\u001b[1m7815/9926\u001b[0m \u001b[32m━━━━━━━━━━━━━━━\u001b[0m\u001b[37m━━━━━\u001b[0m \u001b[1m3:22\u001b[0m 96ms/step - content_loss: 284066.8438 - learning_rate: 9.4399e-05 - style_loss: 317771.8438 - total_loss: 601838.5000"
     ]
    },
    {
     "name": "stderr",
     "output_type": "stream",
     "text": [
      "Corrupt JPEG data: 9 extraneous bytes before marker 0xda\n"
     ]
    },
    {
     "name": "stdout",
     "output_type": "stream",
     "text": [
      "\u001b[1m8979/9926\u001b[0m \u001b[32m━━━━━━━━━━━━━━━━━━\u001b[0m\u001b[37m━━\u001b[0m \u001b[1m1:30\u001b[0m 96ms/step - content_loss: 282681.3750 - learning_rate: 9.4272e-05 - style_loss: 315976.5625 - total_loss: 598657.6250"
     ]
    },
    {
     "name": "stderr",
     "output_type": "stream",
     "text": [
      "Corrupt JPEG data: premature end of data segment\n"
     ]
    },
    {
     "name": "stdout",
     "output_type": "stream",
     "text": [
      "\u001b[1m9721/9926\u001b[0m \u001b[32m━━━━━━━━━━━━━━━━━━━\u001b[0m\u001b[37m━\u001b[0m \u001b[1m19s\u001b[0m 96ms/step - content_loss: 281856.4062 - learning_rate: 9.4191e-05 - style_loss: 314981.4688 - total_loss: 596837.5000"
     ]
    },
    {
     "name": "stderr",
     "output_type": "stream",
     "text": [
      "Corrupt JPEG data: 419 extraneous bytes before marker 0xd9\n"
     ]
    },
    {
     "name": "stdout",
     "output_type": "stream",
     "text": [
      "\u001b[1m9926/9926\u001b[0m \u001b[32m━━━━━━━━━━━━━━━━━━━━\u001b[0m\u001b[37m\u001b[0m \u001b[1m954s\u001b[0m 96ms/step - content_loss: 281633.2188 - learning_rate: 9.4168e-05 - style_loss: 314706.5000 - total_loss: 596339.2500\n",
      "Epoch 3/15\n",
      "\u001b[1m 899/9926\u001b[0m \u001b[32m━\u001b[0m\u001b[37m━━━━━━━━━━━━━━━━━━━\u001b[0m \u001b[1m14:25\u001b[0m 96ms/step - content_loss: 258713.3438 - learning_rate: 9.0877e-05 - style_loss: 280413.0625 - total_loss: 539126.3750"
     ]
    },
    {
     "name": "stderr",
     "output_type": "stream",
     "text": [
      "Corrupt JPEG data: premature end of data segment\n"
     ]
    },
    {
     "name": "stdout",
     "output_type": "stream",
     "text": [
      "\u001b[1m2254/9926\u001b[0m \u001b[32m━━━━\u001b[0m\u001b[37m━━━━━━━━━━━━━━━━\u001b[0m \u001b[1m12:12\u001b[0m 96ms/step - content_loss: 254953.7188 - learning_rate: 9.0738e-05 - style_loss: 275889.4688 - total_loss: 530843.4375"
     ]
    },
    {
     "name": "stderr",
     "output_type": "stream",
     "text": [
      "Corrupt JPEG data: premature end of data segment\n"
     ]
    },
    {
     "name": "stdout",
     "output_type": "stream",
     "text": [
      "\u001b[1m7815/9926\u001b[0m \u001b[32m━━━━━━━━━━━━━━━\u001b[0m\u001b[37m━━━━━\u001b[0m \u001b[1m3:21\u001b[0m 95ms/step - content_loss: 250912.4688 - learning_rate: 9.0174e-05 - style_loss: 273243.0625 - total_loss: 524155.8125"
     ]
    },
    {
     "name": "stderr",
     "output_type": "stream",
     "text": [
      "Corrupt JPEG data: 9 extraneous bytes before marker 0xda\n"
     ]
    },
    {
     "name": "stdout",
     "output_type": "stream",
     "text": [
      "\u001b[1m8979/9926\u001b[0m \u001b[32m━━━━━━━━━━━━━━━━━━\u001b[0m\u001b[37m━━\u001b[0m \u001b[1m1:30\u001b[0m 95ms/step - content_loss: 250167.1875 - learning_rate: 9.0058e-05 - style_loss: 272440.8750 - total_loss: 522608.4688"
     ]
    },
    {
     "name": "stderr",
     "output_type": "stream",
     "text": [
      "Corrupt JPEG data: premature end of data segment\n"
     ]
    },
    {
     "name": "stdout",
     "output_type": "stream",
     "text": [
      "\u001b[1m9721/9926\u001b[0m \u001b[32m━━━━━━━━━━━━━━━━━━━\u001b[0m\u001b[37m━\u001b[0m \u001b[1m19s\u001b[0m 95ms/step - content_loss: 249748.1094 - learning_rate: 8.9984e-05 - style_loss: 272075.3125 - total_loss: 521824.0000"
     ]
    },
    {
     "name": "stderr",
     "output_type": "stream",
     "text": [
      "Corrupt JPEG data: 419 extraneous bytes before marker 0xd9\n"
     ]
    },
    {
     "name": "stdout",
     "output_type": "stream",
     "text": [
      "\u001b[1m9926/9926\u001b[0m \u001b[32m━━━━━━━━━━━━━━━━━━━━\u001b[0m\u001b[37m\u001b[0m \u001b[1m950s\u001b[0m 95ms/step - content_loss: 249637.3906 - learning_rate: 8.9963e-05 - style_loss: 271975.7500 - total_loss: 521613.7500\n",
      "Epoch 4/15\n",
      "\u001b[1m 899/9926\u001b[0m \u001b[32m━\u001b[0m\u001b[37m━━━━━━━━━━━━━━━━━━━\u001b[0m \u001b[1m14:26\u001b[0m 96ms/step - content_loss: 239253.4688 - learning_rate: 8.6955e-05 - style_loss: 252695.7812 - total_loss: 491949.2500"
     ]
    },
    {
     "name": "stderr",
     "output_type": "stream",
     "text": [
      "Corrupt JPEG data: premature end of data segment\n"
     ]
    },
    {
     "name": "stdout",
     "output_type": "stream",
     "text": [
      "\u001b[1m2254/9926\u001b[0m \u001b[32m━━━━\u001b[0m\u001b[37m━━━━━━━━━━━━━━━━\u001b[0m \u001b[1m12:14\u001b[0m 96ms/step - content_loss: 237045.6250 - learning_rate: 8.6828e-05 - style_loss: 251687.1719 - total_loss: 488733.0625"
     ]
    },
    {
     "name": "stderr",
     "output_type": "stream",
     "text": [
      "Corrupt JPEG data: premature end of data segment\n"
     ]
    },
    {
     "name": "stdout",
     "output_type": "stream",
     "text": [
      "\u001b[1m7815/9926\u001b[0m \u001b[32m━━━━━━━━━━━━━━━\u001b[0m\u001b[37m━━━━━\u001b[0m \u001b[1m3:18\u001b[0m 94ms/step - content_loss: 234509.1250 - learning_rate: 8.6311e-05 - style_loss: 251512.1250 - total_loss: 486021.6875"
     ]
    },
    {
     "name": "stderr",
     "output_type": "stream",
     "text": [
      "Corrupt JPEG data: 9 extraneous bytes before marker 0xda\n"
     ]
    },
    {
     "name": "stdout",
     "output_type": "stream",
     "text": [
      "\u001b[1m8979/9926\u001b[0m \u001b[32m━━━━━━━━━━━━━━━━━━\u001b[0m\u001b[37m━━\u001b[0m \u001b[1m1:29\u001b[0m 94ms/step - content_loss: 233997.8594 - learning_rate: 8.6204e-05 - style_loss: 251071.0625 - total_loss: 485069.3750"
     ]
    },
    {
     "name": "stderr",
     "output_type": "stream",
     "text": [
      "Corrupt JPEG data: premature end of data segment\n"
     ]
    },
    {
     "name": "stdout",
     "output_type": "stream",
     "text": [
      "\u001b[1m9721/9926\u001b[0m \u001b[32m━━━━━━━━━━━━━━━━━━━\u001b[0m\u001b[37m━\u001b[0m \u001b[1m19s\u001b[0m 94ms/step - content_loss: 233698.6875 - learning_rate: 8.6137e-05 - style_loss: 250828.2500 - total_loss: 484527.4062"
     ]
    },
    {
     "name": "stderr",
     "output_type": "stream",
     "text": [
      "Corrupt JPEG data: 419 extraneous bytes before marker 0xd9\n"
     ]
    },
    {
     "name": "stdout",
     "output_type": "stream",
     "text": [
      "\u001b[1m9926/9926\u001b[0m \u001b[32m━━━━━━━━━━━━━━━━━━━━\u001b[0m\u001b[37m\u001b[0m \u001b[1m937s\u001b[0m 94ms/step - content_loss: 233619.1875 - learning_rate: 8.6118e-05 - style_loss: 250760.7188 - total_loss: 484380.3438\n",
      "Epoch 5/15\n",
      "\u001b[1m 899/9926\u001b[0m \u001b[32m━\u001b[0m\u001b[37m━━━━━━━━━━━━━━━━━━━\u001b[0m \u001b[1m14:08\u001b[0m 94ms/step - content_loss: 227463.0938 - learning_rate: 8.3358e-05 - style_loss: 241718.7812 - total_loss: 469181.8125"
     ]
    },
    {
     "name": "stderr",
     "output_type": "stream",
     "text": [
      "Corrupt JPEG data: premature end of data segment\n"
     ]
    },
    {
     "name": "stdout",
     "output_type": "stream",
     "text": [
      "\u001b[1m2254/9926\u001b[0m \u001b[32m━━━━\u001b[0m\u001b[37m━━━━━━━━━━━━━━━━\u001b[0m \u001b[1m11:58\u001b[0m 94ms/step - content_loss: 225310.5000 - learning_rate: 8.3241e-05 - style_loss: 239478.6250 - total_loss: 464789.1562"
     ]
    },
    {
     "name": "stderr",
     "output_type": "stream",
     "text": [
      "Corrupt JPEG data: premature end of data segment\n"
     ]
    },
    {
     "name": "stdout",
     "output_type": "stream",
     "text": [
      "\u001b[1m7815/9926\u001b[0m \u001b[32m━━━━━━━━━━━━━━━\u001b[0m\u001b[37m━━━━━\u001b[0m \u001b[1m3:17\u001b[0m 93ms/step - content_loss: 223761.6250 - learning_rate: 8.2766e-05 - style_loss: 239660.2812 - total_loss: 463421.7812"
     ]
    },
    {
     "name": "stderr",
     "output_type": "stream",
     "text": [
      "Corrupt JPEG data: 9 extraneous bytes before marker 0xda\n"
     ]
    },
    {
     "name": "stdout",
     "output_type": "stream",
     "text": [
      "\u001b[1m8979/9926\u001b[0m \u001b[32m━━━━━━━━━━━━━━━━━━\u001b[0m\u001b[37m━━\u001b[0m \u001b[1m1:28\u001b[0m 93ms/step - content_loss: 223386.7188 - learning_rate: 8.2667e-05 - style_loss: 239237.4062 - total_loss: 462624.0312"
     ]
    },
    {
     "name": "stderr",
     "output_type": "stream",
     "text": [
      "Corrupt JPEG data: premature end of data segment\n"
     ]
    },
    {
     "name": "stdout",
     "output_type": "stream",
     "text": [
      "\u001b[1m9721/9926\u001b[0m \u001b[32m━━━━━━━━━━━━━━━━━━━\u001b[0m\u001b[37m━\u001b[0m \u001b[1m19s\u001b[0m 93ms/step - content_loss: 223173.2969 - learning_rate: 8.2605e-05 - style_loss: 239036.8750 - total_loss: 462210.0938"
     ]
    },
    {
     "name": "stderr",
     "output_type": "stream",
     "text": [
      "Corrupt JPEG data: 419 extraneous bytes before marker 0xd9\n"
     ]
    },
    {
     "name": "stdout",
     "output_type": "stream",
     "text": [
      "\u001b[1m9926/9926\u001b[0m \u001b[32m━━━━━━━━━━━━━━━━━━━━\u001b[0m\u001b[37m\u001b[0m \u001b[1m931s\u001b[0m 93ms/step - content_loss: 223119.2812 - learning_rate: 8.2588e-05 - style_loss: 238992.0625 - total_loss: 462111.2500\n",
      "Epoch 6/15\n",
      "\u001b[1m 899/9926\u001b[0m \u001b[32m━\u001b[0m\u001b[37m━━━━━━━━━━━━━━━━━━━\u001b[0m \u001b[1m14:08\u001b[0m 94ms/step - content_loss: 217682.0156 - learning_rate: 8.0046e-05 - style_loss: 227087.2656 - total_loss: 444769.2500"
     ]
    },
    {
     "name": "stderr",
     "output_type": "stream",
     "text": [
      "Corrupt JPEG data: premature end of data segment\n"
     ]
    },
    {
     "name": "stdout",
     "output_type": "stream",
     "text": [
      "\u001b[1m2254/9926\u001b[0m \u001b[32m━━━━\u001b[0m\u001b[37m━━━━━━━━━━━━━━━━\u001b[0m \u001b[1m11:58\u001b[0m 94ms/step - content_loss: 216502.2344 - learning_rate: 7.9938e-05 - style_loss: 227625.1094 - total_loss: 444127.2812"
     ]
    },
    {
     "name": "stderr",
     "output_type": "stream",
     "text": [
      "Corrupt JPEG data: premature end of data segment\n"
     ]
    },
    {
     "name": "stdout",
     "output_type": "stream",
     "text": [
      "\u001b[1m7815/9926\u001b[0m \u001b[32m━━━━━━━━━━━━━━━\u001b[0m\u001b[37m━━━━━\u001b[0m \u001b[1m3:17\u001b[0m 93ms/step - content_loss: 215696.9219 - learning_rate: 7.9500e-05 - style_loss: 229662.7500 - total_loss: 445359.7500"
     ]
    },
    {
     "name": "stderr",
     "output_type": "stream",
     "text": [
      "Corrupt JPEG data: 9 extraneous bytes before marker 0xda\n"
     ]
    },
    {
     "name": "stdout",
     "output_type": "stream",
     "text": [
      "\u001b[1m8979/9926\u001b[0m \u001b[32m━━━━━━━━━━━━━━━━━━\u001b[0m\u001b[37m━━\u001b[0m \u001b[1m1:28\u001b[0m 93ms/step - content_loss: 215391.4062 - learning_rate: 7.9409e-05 - style_loss: 229401.6875 - total_loss: 444793.1562"
     ]
    },
    {
     "name": "stderr",
     "output_type": "stream",
     "text": [
      "Corrupt JPEG data: premature end of data segment\n"
     ]
    },
    {
     "name": "stdout",
     "output_type": "stream",
     "text": [
      "\u001b[1m9721/9926\u001b[0m \u001b[32m━━━━━━━━━━━━━━━━━━━\u001b[0m\u001b[37m━\u001b[0m \u001b[1m19s\u001b[0m 93ms/step - content_loss: 215237.7031 - learning_rate: 7.9352e-05 - style_loss: 229325.9219 - total_loss: 444563.7188"
     ]
    },
    {
     "name": "stderr",
     "output_type": "stream",
     "text": [
      "Corrupt JPEG data: 419 extraneous bytes before marker 0xd9\n"
     ]
    },
    {
     "name": "stdout",
     "output_type": "stream",
     "text": [
      "\u001b[1m9926/9926\u001b[0m \u001b[32m━━━━━━━━━━━━━━━━━━━━\u001b[0m\u001b[37m\u001b[0m \u001b[1m931s\u001b[0m 93ms/step - content_loss: 215198.1719 - learning_rate: 7.9336e-05 - style_loss: 229303.1875 - total_loss: 444501.4688\n",
      "Epoch 7/15\n",
      "\u001b[1m 899/9926\u001b[0m \u001b[32m━\u001b[0m\u001b[37m━━━━━━━━━━━━━━━━━━━\u001b[0m \u001b[1m14:08\u001b[0m 94ms/step - content_loss: 213944.9531 - learning_rate: 7.6988e-05 - style_loss: 224865.8438 - total_loss: 438810.9688"
     ]
    },
    {
     "name": "stderr",
     "output_type": "stream",
     "text": [
      "Corrupt JPEG data: premature end of data segment\n"
     ]
    },
    {
     "name": "stdout",
     "output_type": "stream",
     "text": [
      "\u001b[1m2254/9926\u001b[0m \u001b[32m━━━━\u001b[0m\u001b[37m━━━━━━━━━━━━━━━━\u001b[0m \u001b[1m11:58\u001b[0m 94ms/step - content_loss: 211351.4844 - learning_rate: 7.6888e-05 - style_loss: 222124.7500 - total_loss: 433476.1875"
     ]
    },
    {
     "name": "stderr",
     "output_type": "stream",
     "text": [
      "Corrupt JPEG data: premature end of data segment\n"
     ]
    },
    {
     "name": "stdout",
     "output_type": "stream",
     "text": [
      "\u001b[1m7815/9926\u001b[0m \u001b[32m━━━━━━━━━━━━━━━\u001b[0m\u001b[37m━━━━━\u001b[0m \u001b[1m3:17\u001b[0m 93ms/step - content_loss: 209856.3281 - learning_rate: 7.6482e-05 - style_loss: 221877.6562 - total_loss: 431733.9375"
     ]
    },
    {
     "name": "stderr",
     "output_type": "stream",
     "text": [
      "Corrupt JPEG data: 9 extraneous bytes before marker 0xda\n"
     ]
    },
    {
     "name": "stdout",
     "output_type": "stream",
     "text": [
      "\u001b[1m8979/9926\u001b[0m \u001b[32m━━━━━━━━━━━━━━━━━━\u001b[0m\u001b[37m━━\u001b[0m \u001b[1m1:28\u001b[0m 93ms/step - content_loss: 209587.7031 - learning_rate: 7.6398e-05 - style_loss: 221639.1562 - total_loss: 431226.8438"
     ]
    },
    {
     "name": "stderr",
     "output_type": "stream",
     "text": [
      "Corrupt JPEG data: premature end of data segment\n"
     ]
    },
    {
     "name": "stdout",
     "output_type": "stream",
     "text": [
      "\u001b[1m9721/9926\u001b[0m \u001b[32m━━━━━━━━━━━━━━━━━━━\u001b[0m\u001b[37m━\u001b[0m \u001b[1m19s\u001b[0m 93ms/step - content_loss: 209434.8750 - learning_rate: 7.6345e-05 - style_loss: 221524.3594 - total_loss: 430959.2188"
     ]
    },
    {
     "name": "stderr",
     "output_type": "stream",
     "text": [
      "Corrupt JPEG data: 419 extraneous bytes before marker 0xd9\n"
     ]
    },
    {
     "name": "stdout",
     "output_type": "stream",
     "text": [
      "\u001b[1m9926/9926\u001b[0m \u001b[32m━━━━━━━━━━━━━━━━━━━━\u001b[0m\u001b[37m\u001b[0m \u001b[1m931s\u001b[0m 93ms/step - content_loss: 209395.2188 - learning_rate: 7.6330e-05 - style_loss: 221493.5938 - total_loss: 430888.7812\n",
      "Epoch 8/15\n",
      "\u001b[1m 899/9926\u001b[0m \u001b[32m━\u001b[0m\u001b[37m━━━━━━━━━━━━━━━━━━━\u001b[0m \u001b[1m14:08\u001b[0m 94ms/step - content_loss: 209721.2188 - learning_rate: 7.4154e-05 - style_loss: 218804.9688 - total_loss: 428526.0312"
     ]
    },
    {
     "name": "stderr",
     "output_type": "stream",
     "text": [
      "Corrupt JPEG data: premature end of data segment\n"
     ]
    },
    {
     "name": "stdout",
     "output_type": "stream",
     "text": [
      "\u001b[1m2254/9926\u001b[0m \u001b[32m━━━━\u001b[0m\u001b[37m━━━━━━━━━━━━━━━━\u001b[0m \u001b[1m11:58\u001b[0m 94ms/step - content_loss: 206799.0781 - learning_rate: 7.4062e-05 - style_loss: 215699.2969 - total_loss: 422498.1875"
     ]
    },
    {
     "name": "stderr",
     "output_type": "stream",
     "text": [
      "Corrupt JPEG data: premature end of data segment\n"
     ]
    },
    {
     "name": "stdout",
     "output_type": "stream",
     "text": [
      "\u001b[1m7815/9926\u001b[0m \u001b[32m━━━━━━━━━━━━━━━\u001b[0m\u001b[37m━━━━━\u001b[0m \u001b[1m3:17\u001b[0m 93ms/step - content_loss: 205125.7344 - learning_rate: 7.3685e-05 - style_loss: 215318.1250 - total_loss: 420443.8125"
     ]
    },
    {
     "name": "stderr",
     "output_type": "stream",
     "text": [
      "Corrupt JPEG data: 9 extraneous bytes before marker 0xda\n"
     ]
    },
    {
     "name": "stdout",
     "output_type": "stream",
     "text": [
      "\u001b[1m8979/9926\u001b[0m \u001b[32m━━━━━━━━━━━━━━━━━━\u001b[0m\u001b[37m━━\u001b[0m \u001b[1m1:28\u001b[0m 93ms/step - content_loss: 204857.5312 - learning_rate: 7.3607e-05 - style_loss: 215119.8125 - total_loss: 419977.3438"
     ]
    },
    {
     "name": "stderr",
     "output_type": "stream",
     "text": [
      "Corrupt JPEG data: premature end of data segment\n"
     ]
    },
    {
     "name": "stdout",
     "output_type": "stream",
     "text": [
      "\u001b[1m9721/9926\u001b[0m \u001b[32m━━━━━━━━━━━━━━━━━━━\u001b[0m\u001b[37m━\u001b[0m \u001b[1m19s\u001b[0m 93ms/step - content_loss: 204705.0312 - learning_rate: 7.3557e-05 - style_loss: 215023.3125 - total_loss: 419728.3438"
     ]
    },
    {
     "name": "stderr",
     "output_type": "stream",
     "text": [
      "Corrupt JPEG data: 419 extraneous bytes before marker 0xd9\n"
     ]
    },
    {
     "name": "stdout",
     "output_type": "stream",
     "text": [
      "\u001b[1m9926/9926\u001b[0m \u001b[32m━━━━━━━━━━━━━━━━━━━━\u001b[0m\u001b[37m\u001b[0m \u001b[1m931s\u001b[0m 93ms/step - content_loss: 204666.5312 - learning_rate: 7.3544e-05 - style_loss: 214998.3750 - total_loss: 419664.9062\n",
      "Epoch 9/15\n",
      "\u001b[1m 899/9926\u001b[0m \u001b[32m━\u001b[0m\u001b[37m━━━━━━━━━━━━━━━━━━━\u001b[0m \u001b[1m14:08\u001b[0m 94ms/step - content_loss: 203437.3438 - learning_rate: 7.1522e-05 - style_loss: 212096.7031 - total_loss: 415533.9062"
     ]
    },
    {
     "name": "stderr",
     "output_type": "stream",
     "text": [
      "Corrupt JPEG data: premature end of data segment\n"
     ]
    },
    {
     "name": "stdout",
     "output_type": "stream",
     "text": [
      "\u001b[1m2254/9926\u001b[0m \u001b[32m━━━━\u001b[0m\u001b[37m━━━━━━━━━━━━━━━━\u001b[0m \u001b[1m11:57\u001b[0m 94ms/step - content_loss: 201892.0625 - learning_rate: 7.1436e-05 - style_loss: 210689.7500 - total_loss: 412581.7188"
     ]
    },
    {
     "name": "stderr",
     "output_type": "stream",
     "text": [
      "Corrupt JPEG data: premature end of data segment\n"
     ]
    },
    {
     "name": "stdout",
     "output_type": "stream",
     "text": [
      "\u001b[1m7815/9926\u001b[0m \u001b[32m━━━━━━━━━━━━━━━\u001b[0m\u001b[37m━━━━━\u001b[0m \u001b[1m3:17\u001b[0m 93ms/step - content_loss: 200959.5625 - learning_rate: 7.1085e-05 - style_loss: 210935.1875 - total_loss: 411894.7812"
     ]
    },
    {
     "name": "stderr",
     "output_type": "stream",
     "text": [
      "Corrupt JPEG data: 9 extraneous bytes before marker 0xda\n"
     ]
    },
    {
     "name": "stdout",
     "output_type": "stream",
     "text": [
      "\u001b[1m8979/9926\u001b[0m \u001b[32m━━━━━━━━━━━━━━━━━━\u001b[0m\u001b[37m━━\u001b[0m \u001b[1m1:28\u001b[0m 93ms/step - content_loss: 200732.8438 - learning_rate: 7.1013e-05 - style_loss: 210760.1406 - total_loss: 411493.0312"
     ]
    },
    {
     "name": "stderr",
     "output_type": "stream",
     "text": [
      "Corrupt JPEG data: premature end of data segment\n"
     ]
    },
    {
     "name": "stdout",
     "output_type": "stream",
     "text": [
      "\u001b[1m9721/9926\u001b[0m \u001b[32m━━━━━━━━━━━━━━━━━━━\u001b[0m\u001b[37m━\u001b[0m \u001b[1m19s\u001b[0m 93ms/step - content_loss: 200608.7969 - learning_rate: 7.0967e-05 - style_loss: 210672.8125 - total_loss: 411281.6562"
     ]
    },
    {
     "name": "stderr",
     "output_type": "stream",
     "text": [
      "Corrupt JPEG data: 419 extraneous bytes before marker 0xd9\n"
     ]
    },
    {
     "name": "stdout",
     "output_type": "stream",
     "text": [
      "\u001b[1m9926/9926\u001b[0m \u001b[32m━━━━━━━━━━━━━━━━━━━━\u001b[0m\u001b[37m\u001b[0m \u001b[1m930s\u001b[0m 93ms/step - content_loss: 200577.4062 - learning_rate: 7.0954e-05 - style_loss: 210651.4375 - total_loss: 411228.8750\n",
      "Epoch 10/15\n",
      "\u001b[1m 899/9926\u001b[0m \u001b[32m━\u001b[0m\u001b[37m━━━━━━━━━━━━━━━━━━━\u001b[0m \u001b[1m14:08\u001b[0m 94ms/step - content_loss: 199211.0938 - learning_rate: 6.9070e-05 - style_loss: 206028.7656 - total_loss: 405239.7812"
     ]
    },
    {
     "name": "stderr",
     "output_type": "stream",
     "text": [
      "Corrupt JPEG data: premature end of data segment\n"
     ]
    },
    {
     "name": "stdout",
     "output_type": "stream",
     "text": [
      "\u001b[1m2254/9926\u001b[0m \u001b[32m━━━━\u001b[0m\u001b[37m━━━━━━━━━━━━━━━━\u001b[0m \u001b[1m11:58\u001b[0m 94ms/step - content_loss: 197613.8438 - learning_rate: 6.8990e-05 - style_loss: 204978.2969 - total_loss: 402592.0312"
     ]
    },
    {
     "name": "stderr",
     "output_type": "stream",
     "text": [
      "Corrupt JPEG data: premature end of data segment\n"
     ]
    },
    {
     "name": "stdout",
     "output_type": "stream",
     "text": [
      "\u001b[1m7815/9926\u001b[0m \u001b[32m━━━━━━━━━━━━━━━\u001b[0m\u001b[37m━━━━━\u001b[0m \u001b[1m3:17\u001b[0m 93ms/step - content_loss: 197073.0625 - learning_rate: 6.8663e-05 - style_loss: 205904.2812 - total_loss: 402977.1875"
     ]
    },
    {
     "name": "stderr",
     "output_type": "stream",
     "text": [
      "Corrupt JPEG data: 9 extraneous bytes before marker 0xda\n"
     ]
    },
    {
     "name": "stdout",
     "output_type": "stream",
     "text": [
      "\u001b[1m8979/9926\u001b[0m \u001b[32m━━━━━━━━━━━━━━━━━━\u001b[0m\u001b[37m━━\u001b[0m \u001b[1m1:28\u001b[0m 93ms/step - content_loss: 196930.4062 - learning_rate: 6.8595e-05 - style_loss: 205838.2500 - total_loss: 402768.3750"
     ]
    },
    {
     "name": "stderr",
     "output_type": "stream",
     "text": [
      "Corrupt JPEG data: premature end of data segment\n"
     ]
    },
    {
     "name": "stdout",
     "output_type": "stream",
     "text": [
      "\u001b[1m9721/9926\u001b[0m \u001b[32m━━━━━━━━━━━━━━━━━━━\u001b[0m\u001b[37m━\u001b[0m \u001b[1m19s\u001b[0m 93ms/step - content_loss: 196851.6719 - learning_rate: 6.8552e-05 - style_loss: 205823.9531 - total_loss: 402675.3125"
     ]
    },
    {
     "name": "stderr",
     "output_type": "stream",
     "text": [
      "Corrupt JPEG data: 419 extraneous bytes before marker 0xd9\n"
     ]
    },
    {
     "name": "stdout",
     "output_type": "stream",
     "text": [
      "\u001b[1m9926/9926\u001b[0m \u001b[32m━━━━━━━━━━━━━━━━━━━━\u001b[0m\u001b[37m\u001b[0m \u001b[1m931s\u001b[0m 93ms/step - content_loss: 196830.9688 - learning_rate: 6.8540e-05 - style_loss: 205818.0469 - total_loss: 402648.6875\n",
      "Epoch 11/15\n",
      "\u001b[1m 899/9926\u001b[0m \u001b[32m━\u001b[0m\u001b[37m━━━━━━━━━━━━━━━━━━━\u001b[0m \u001b[1m14:08\u001b[0m 94ms/step - content_loss: 198413.3281 - learning_rate: 6.6781e-05 - style_loss: 206605.6875 - total_loss: 405019.0000"
     ]
    },
    {
     "name": "stderr",
     "output_type": "stream",
     "text": [
      "Corrupt JPEG data: premature end of data segment\n"
     ]
    },
    {
     "name": "stdout",
     "output_type": "stream",
     "text": [
      "\u001b[1m2254/9926\u001b[0m \u001b[32m━━━━\u001b[0m\u001b[37m━━━━━━━━━━━━━━━━\u001b[0m \u001b[1m11:58\u001b[0m 94ms/step - content_loss: 196044.9219 - learning_rate: 6.6706e-05 - style_loss: 203567.3906 - total_loss: 399612.2500"
     ]
    },
    {
     "name": "stderr",
     "output_type": "stream",
     "text": [
      "Corrupt JPEG data: premature end of data segment\n"
     ]
    },
    {
     "name": "stdout",
     "output_type": "stream",
     "text": [
      "\u001b[1m7815/9926\u001b[0m \u001b[32m━━━━━━━━━━━━━━━\u001b[0m\u001b[37m━━━━━\u001b[0m \u001b[1m3:17\u001b[0m 94ms/step - content_loss: 195049.4375 - learning_rate: 6.6400e-05 - style_loss: 203645.2969 - total_loss: 398694.7188"
     ]
    },
    {
     "name": "stderr",
     "output_type": "stream",
     "text": [
      "Corrupt JPEG data: 9 extraneous bytes before marker 0xda\n"
     ]
    },
    {
     "name": "stdout",
     "output_type": "stream",
     "text": [
      "\u001b[1m8979/9926\u001b[0m \u001b[32m━━━━━━━━━━━━━━━━━━\u001b[0m\u001b[37m━━\u001b[0m \u001b[1m1:28\u001b[0m 94ms/step - content_loss: 194850.6875 - learning_rate: 6.6337e-05 - style_loss: 203485.1094 - total_loss: 398335.7500"
     ]
    },
    {
     "name": "stderr",
     "output_type": "stream",
     "text": [
      "Corrupt JPEG data: premature end of data segment\n"
     ]
    },
    {
     "name": "stdout",
     "output_type": "stream",
     "text": [
      "\u001b[1m9721/9926\u001b[0m \u001b[32m━━━━━━━━━━━━━━━━━━━\u001b[0m\u001b[37m━\u001b[0m \u001b[1m19s\u001b[0m 94ms/step - content_loss: 194746.2031 - learning_rate: 6.6296e-05 - style_loss: 203412.8906 - total_loss: 398159.0312"
     ]
    },
    {
     "name": "stderr",
     "output_type": "stream",
     "text": [
      "Corrupt JPEG data: 419 extraneous bytes before marker 0xd9\n"
     ]
    },
    {
     "name": "stdout",
     "output_type": "stream",
     "text": [
      "\u001b[1m9926/9926\u001b[0m \u001b[32m━━━━━━━━━━━━━━━━━━━━\u001b[0m\u001b[37m\u001b[0m \u001b[1m931s\u001b[0m 94ms/step - content_loss: 194720.3438 - learning_rate: 6.6285e-05 - style_loss: 203394.0156 - total_loss: 398114.3125\n",
      "Epoch 12/15\n",
      "\u001b[1m 899/9926\u001b[0m \u001b[32m━\u001b[0m\u001b[37m━━━━━━━━━━━━━━━━━━━\u001b[0m \u001b[1m14:08\u001b[0m 94ms/step - content_loss: 195771.8594 - learning_rate: 6.4639e-05 - style_loss: 206269.5156 - total_loss: 402041.1562"
     ]
    },
    {
     "name": "stderr",
     "output_type": "stream",
     "text": [
      "Corrupt JPEG data: premature end of data segment\n"
     ]
    },
    {
     "name": "stdout",
     "output_type": "stream",
     "text": [
      "\u001b[1m2254/9926\u001b[0m \u001b[32m━━━━\u001b[0m\u001b[37m━━━━━━━━━━━━━━━━\u001b[0m \u001b[1m11:58\u001b[0m 94ms/step - content_loss: 193769.0000 - learning_rate: 6.4568e-05 - style_loss: 202091.5156 - total_loss: 395860.3750"
     ]
    },
    {
     "name": "stderr",
     "output_type": "stream",
     "text": [
      "Corrupt JPEG data: premature end of data segment\n"
     ]
    },
    {
     "name": "stdout",
     "output_type": "stream",
     "text": [
      "\u001b[1m7815/9926\u001b[0m \u001b[32m━━━━━━━━━━━━━━━\u001b[0m\u001b[37m━━━━━\u001b[0m \u001b[1m3:17\u001b[0m 93ms/step - content_loss: 192685.8281 - learning_rate: 6.4282e-05 - style_loss: 200969.3438 - total_loss: 393655.0625"
     ]
    },
    {
     "name": "stderr",
     "output_type": "stream",
     "text": [
      "Corrupt JPEG data: 9 extraneous bytes before marker 0xda\n"
     ]
    },
    {
     "name": "stdout",
     "output_type": "stream",
     "text": [
      "\u001b[1m8979/9926\u001b[0m \u001b[32m━━━━━━━━━━━━━━━━━━\u001b[0m\u001b[37m━━\u001b[0m \u001b[1m1:28\u001b[0m 93ms/step - content_loss: 192470.7188 - learning_rate: 6.4222e-05 - style_loss: 200718.0156 - total_loss: 393188.5938"
     ]
    },
    {
     "name": "stderr",
     "output_type": "stream",
     "text": [
      "Corrupt JPEG data: premature end of data segment\n"
     ]
    },
    {
     "name": "stdout",
     "output_type": "stream",
     "text": [
      "\u001b[1m9721/9926\u001b[0m \u001b[32m━━━━━━━━━━━━━━━━━━━\u001b[0m\u001b[37m━\u001b[0m \u001b[1m19s\u001b[0m 93ms/step - content_loss: 192363.8906 - learning_rate: 6.4184e-05 - style_loss: 200624.2188 - total_loss: 392987.9688"
     ]
    },
    {
     "name": "stderr",
     "output_type": "stream",
     "text": [
      "Corrupt JPEG data: 419 extraneous bytes before marker 0xd9\n"
     ]
    },
    {
     "name": "stdout",
     "output_type": "stream",
     "text": [
      "\u001b[1m9926/9926\u001b[0m \u001b[32m━━━━━━━━━━━━━━━━━━━━\u001b[0m\u001b[37m\u001b[0m \u001b[1m931s\u001b[0m 93ms/step - content_loss: 192336.4688 - learning_rate: 6.4174e-05 - style_loss: 200598.1250 - total_loss: 392934.4688\n",
      "Epoch 13/15\n",
      "\u001b[1m 899/9926\u001b[0m \u001b[32m━\u001b[0m\u001b[37m━━━━━━━━━━━━━━━━━━━\u001b[0m \u001b[1m14:08\u001b[0m 94ms/step - content_loss: 191679.2812 - learning_rate: 6.2630e-05 - style_loss: 196806.8750 - total_loss: 388486.1875"
     ]
    },
    {
     "name": "stderr",
     "output_type": "stream",
     "text": [
      "Corrupt JPEG data: premature end of data segment\n"
     ]
    },
    {
     "name": "stdout",
     "output_type": "stream",
     "text": [
      "\u001b[1m2254/9926\u001b[0m \u001b[32m━━━━\u001b[0m\u001b[37m━━━━━━━━━━━━━━━━\u001b[0m \u001b[1m11:58\u001b[0m 94ms/step - content_loss: 190232.5312 - learning_rate: 6.2563e-05 - style_loss: 195697.7188 - total_loss: 385930.2188"
     ]
    },
    {
     "name": "stderr",
     "output_type": "stream",
     "text": [
      "Corrupt JPEG data: premature end of data segment\n"
     ]
    },
    {
     "name": "stdout",
     "output_type": "stream",
     "text": [
      "\u001b[1m7815/9926\u001b[0m \u001b[32m━━━━━━━━━━━━━━━\u001b[0m\u001b[37m━━━━━\u001b[0m \u001b[1m3:17\u001b[0m 93ms/step - content_loss: 189642.9062 - learning_rate: 6.2294e-05 - style_loss: 196706.9688 - total_loss: 386349.5938"
     ]
    },
    {
     "name": "stderr",
     "output_type": "stream",
     "text": [
      "Corrupt JPEG data: 9 extraneous bytes before marker 0xda\n"
     ]
    },
    {
     "name": "stdout",
     "output_type": "stream",
     "text": [
      "\u001b[1m8979/9926\u001b[0m \u001b[32m━━━━━━━━━━━━━━━━━━\u001b[0m\u001b[37m━━\u001b[0m \u001b[1m1:28\u001b[0m 93ms/step - content_loss: 189500.6406 - learning_rate: 6.2238e-05 - style_loss: 196639.1094 - total_loss: 386139.4375"
     ]
    },
    {
     "name": "stderr",
     "output_type": "stream",
     "text": [
      "Corrupt JPEG data: premature end of data segment\n"
     ]
    },
    {
     "name": "stdout",
     "output_type": "stream",
     "text": [
      "\u001b[1m9721/9926\u001b[0m \u001b[32m━━━━━━━━━━━━━━━━━━━\u001b[0m\u001b[37m━\u001b[0m \u001b[1m19s\u001b[0m 93ms/step - content_loss: 189434.7500 - learning_rate: 6.2203e-05 - style_loss: 196647.8125 - total_loss: 386082.2500"
     ]
    },
    {
     "name": "stderr",
     "output_type": "stream",
     "text": [
      "Corrupt JPEG data: 419 extraneous bytes before marker 0xd9\n"
     ]
    },
    {
     "name": "stdout",
     "output_type": "stream",
     "text": [
      "\u001b[1m9926/9926\u001b[0m \u001b[32m━━━━━━━━━━━━━━━━━━━━\u001b[0m\u001b[37m\u001b[0m \u001b[1m930s\u001b[0m 93ms/step - content_loss: 189420.9531 - learning_rate: 6.2193e-05 - style_loss: 196654.1406 - total_loss: 386074.7812\n",
      "Epoch 14/15\n",
      "\u001b[1m 899/9926\u001b[0m \u001b[32m━\u001b[0m\u001b[37m━━━━━━━━━━━━━━━━━━━\u001b[0m \u001b[1m14:08\u001b[0m 94ms/step - content_loss: 188781.8125 - learning_rate: 6.0742e-05 - style_loss: 197168.6562 - total_loss: 385950.4375"
     ]
    },
    {
     "name": "stderr",
     "output_type": "stream",
     "text": [
      "Corrupt JPEG data: premature end of data segment\n"
     ]
    },
    {
     "name": "stdout",
     "output_type": "stream",
     "text": [
      "\u001b[1m2254/9926\u001b[0m \u001b[32m━━━━\u001b[0m\u001b[37m━━━━━━━━━━━━━━━━\u001b[0m \u001b[1m11:57\u001b[0m 94ms/step - content_loss: 188099.7500 - learning_rate: 6.0679e-05 - style_loss: 195456.1406 - total_loss: 383555.8750"
     ]
    },
    {
     "name": "stderr",
     "output_type": "stream",
     "text": [
      "Corrupt JPEG data: premature end of data segment\n"
     ]
    },
    {
     "name": "stdout",
     "output_type": "stream",
     "text": [
      "\u001b[1m7815/9926\u001b[0m \u001b[32m━━━━━━━━━━━━━━━\u001b[0m\u001b[37m━━━━━\u001b[0m \u001b[1m3:17\u001b[0m 93ms/step - content_loss: 187836.7344 - learning_rate: 6.0426e-05 - style_loss: 195614.7031 - total_loss: 383451.2812"
     ]
    },
    {
     "name": "stderr",
     "output_type": "stream",
     "text": [
      "Corrupt JPEG data: 9 extraneous bytes before marker 0xda\n"
     ]
    },
    {
     "name": "stdout",
     "output_type": "stream",
     "text": [
      "\u001b[1m8979/9926\u001b[0m \u001b[32m━━━━━━━━━━━━━━━━━━\u001b[0m\u001b[37m━━\u001b[0m \u001b[1m1:28\u001b[0m 93ms/step - content_loss: 187698.9688 - learning_rate: 6.0373e-05 - style_loss: 195443.9688 - total_loss: 383142.7500"
     ]
    },
    {
     "name": "stderr",
     "output_type": "stream",
     "text": [
      "Corrupt JPEG data: premature end of data segment\n"
     ]
    },
    {
     "name": "stdout",
     "output_type": "stream",
     "text": [
      "\u001b[1m9721/9926\u001b[0m \u001b[32m━━━━━━━━━━━━━━━━━━━\u001b[0m\u001b[37m━\u001b[0m \u001b[1m19s\u001b[0m 93ms/step - content_loss: 187626.6250 - learning_rate: 6.0340e-05 - style_loss: 195369.1562 - total_loss: 382995.5000"
     ]
    },
    {
     "name": "stderr",
     "output_type": "stream",
     "text": [
      "Corrupt JPEG data: 419 extraneous bytes before marker 0xd9\n"
     ]
    },
    {
     "name": "stdout",
     "output_type": "stream",
     "text": [
      "\u001b[1m9926/9926\u001b[0m \u001b[32m━━━━━━━━━━━━━━━━━━━━\u001b[0m\u001b[37m\u001b[0m \u001b[1m930s\u001b[0m 93ms/step - content_loss: 187610.3594 - learning_rate: 6.0331e-05 - style_loss: 195351.4219 - total_loss: 382961.5000\n",
      "Epoch 15/15\n",
      "\u001b[1m 899/9926\u001b[0m \u001b[32m━\u001b[0m\u001b[37m━━━━━━━━━━━━━━━━━━━\u001b[0m \u001b[1m14:08\u001b[0m 94ms/step - content_loss: 189530.8438 - learning_rate: 5.8964e-05 - style_loss: 195930.6875 - total_loss: 385461.5000"
     ]
    },
    {
     "name": "stderr",
     "output_type": "stream",
     "text": [
      "Corrupt JPEG data: premature end of data segment\n"
     ]
    },
    {
     "name": "stdout",
     "output_type": "stream",
     "text": [
      "\u001b[1m2254/9926\u001b[0m \u001b[32m━━━━\u001b[0m\u001b[37m━━━━━━━━━━━━━━━━\u001b[0m \u001b[1m11:57\u001b[0m 94ms/step - content_loss: 187389.1094 - learning_rate: 5.8905e-05 - style_loss: 193454.9062 - total_loss: 380843.9375"
     ]
    },
    {
     "name": "stderr",
     "output_type": "stream",
     "text": [
      "Corrupt JPEG data: premature end of data segment\n"
     ]
    },
    {
     "name": "stdout",
     "output_type": "stream",
     "text": [
      "\u001b[1m7815/9926\u001b[0m \u001b[32m━━━━━━━━━━━━━━━\u001b[0m\u001b[37m━━━━━\u001b[0m \u001b[1m3:17\u001b[0m 93ms/step - content_loss: 186377.3281 - learning_rate: 5.8667e-05 - style_loss: 193358.0781 - total_loss: 379735.3125"
     ]
    },
    {
     "name": "stderr",
     "output_type": "stream",
     "text": [
      "Corrupt JPEG data: 9 extraneous bytes before marker 0xda\n"
     ]
    },
    {
     "name": "stdout",
     "output_type": "stream",
     "text": [
      "\u001b[1m8979/9926\u001b[0m \u001b[32m━━━━━━━━━━━━━━━━━━\u001b[0m\u001b[37m━━\u001b[0m \u001b[1m1:28\u001b[0m 93ms/step - content_loss: 186191.5000 - learning_rate: 5.8617e-05 - style_loss: 193166.6562 - total_loss: 379358.0625"
     ]
    },
    {
     "name": "stderr",
     "output_type": "stream",
     "text": [
      "Corrupt JPEG data: premature end of data segment\n"
     ]
    },
    {
     "name": "stdout",
     "output_type": "stream",
     "text": [
      "\u001b[1m9721/9926\u001b[0m \u001b[32m━━━━━━━━━━━━━━━━━━━\u001b[0m\u001b[37m━\u001b[0m \u001b[1m19s\u001b[0m 93ms/step - content_loss: 186096.5312 - learning_rate: 5.8585e-05 - style_loss: 193099.5000 - total_loss: 379195.9062"
     ]
    },
    {
     "name": "stderr",
     "output_type": "stream",
     "text": [
      "Corrupt JPEG data: 419 extraneous bytes before marker 0xd9\n"
     ]
    },
    {
     "name": "stdout",
     "output_type": "stream",
     "text": [
      "\u001b[1m9926/9926\u001b[0m \u001b[32m━━━━━━━━━━━━━━━━━━━━\u001b[0m\u001b[37m\u001b[0m \u001b[1m930s\u001b[0m 93ms/step - content_loss: 186074.3906 - learning_rate: 5.8577e-05 - style_loss: 193084.4688 - total_loss: 379158.7500\n"
     ]
    }
   ],
   "source": [
    "history = model.fit(\n",
    "    dataset,\n",
    "    epochs=EPOCHS,\n",
    "    callbacks=[\n",
    "        keras.callbacks.ModelCheckpoint(\n",
    "            './checkpoint/model_{epoch}.keras',\n",
    "            monitor='total_loss',\n",
    "            save_best_only=False,\n",
    "            save_freq='epoch'\n",
    "        )\n",
    "    ]\n",
    ")"
   ]
  }
 ],
 "metadata": {
  "kernelspec": {
   "display_name": "base",
   "language": "python",
   "name": "python3"
  },
  "language_info": {
   "codemirror_mode": {
    "name": "ipython",
    "version": 3
   },
   "file_extension": ".py",
   "mimetype": "text/x-python",
   "name": "python",
   "nbconvert_exporter": "python",
   "pygments_lexer": "ipython3",
   "version": "3.11.5"
  }
 },
 "nbformat": 4,
 "nbformat_minor": 2
}

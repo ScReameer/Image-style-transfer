{
 "cells": [
  {
   "cell_type": "code",
   "execution_count": 1,
   "metadata": {},
   "outputs": [],
   "source": [
    "import os\n",
    "os.environ['TF_CPP_MIN_LOG_LEVEL'] = '3' \n",
    "import keras\n",
    "import tensorflow as tf\n",
    "import plotly.express as px\n",
    "# import cv2 as cv\n",
    "import plotly.io as pio\n",
    "from plotly.subplots import make_subplots\n",
    "pio.renderers.default = 'png'\n",
    "pio.templates.default = 'plotly_dark'\n",
    "IMAGES_FOLDER = '/mnt/s/CV/StyleTransferData/'\n",
    "STYLE_FOLDER = os.path.join(IMAGES_FOLDER, 'wikiart_styles')"
   ]
  },
  {
   "cell_type": "markdown",
   "metadata": {},
   "source": [
    "Инициализиуем и компилируем модель"
   ]
  },
  {
   "cell_type": "code",
   "execution_count": 2,
   "metadata": {},
   "outputs": [],
   "source": [
    "content = '/mnt/s/CV/StyleTransferData/test2015/COCO_test2015_000000011864.jpg'\n",
    "style_1 = '/mnt/s/CV/StyleTransferData/woman_with_hat_matisse.jpg'\n",
    "style_2 = '/mnt/s/CV/StyleTransferData/wikiart/Cubism/albert-gleizes_femmes-cousant-1913.jpg'\n",
    "# style_2 = '/mnt/s/CV/StyleTransferData/starry.jpg'\n",
    "style_3 = '/mnt/s/CV/StyleTransferData/sketch.png'\n",
    "# content_img = tf.image.decode_image(tf.io.read_file(content_img))\n",
    "# style_img = tf.image.decode_image(tf.io.read_file(style_img))\n",
    "# content_img = tf.expand_dims(content_img, 0)\n",
    "# style_img = np.expand_dims(style_img, 0)"
   ]
  },
  {
   "cell_type": "code",
   "execution_count": 3,
   "metadata": {},
   "outputs": [
    {
     "name": "stderr",
     "output_type": "stream",
     "text": [
      "/home/screamer/anaconda3/lib/python3.11/site-packages/keras/src/saving/saving_lib.py:396: UserWarning:\n",
      "\n",
      "Skipping variable loading for optimizer 'adam', because it has 1 variables whereas the saved optimizer has 37 variables. \n",
      "\n",
      "/home/screamer/anaconda3/lib/python3.11/site-packages/keras/src/saving/saving_lib.py:396: UserWarning:\n",
      "\n",
      "Skipping variable loading for optimizer 'adam', because it has 1 variables whereas the saved optimizer has 37 variables. \n",
      "\n"
     ]
    }
   ],
   "source": [
    "for model_name in os.listdir('checkpoint'):\n",
    "    model = keras.models.load_model(os.path.join('checkpoint', model_name))\n",
    "    grid = make_subplots(3, 3, subplot_titles=['Content', 'Generated', 'Style'], x_title=model_name, horizontal_spacing=0.05, vertical_spacing=0.05)\n",
    "    iterators = [\n",
    "        [content]*3, \n",
    "        [style_1, style_2, style_3],\n",
    "        (range(1, 4)),\n",
    "    ]\n",
    "    for content_path, style_path, row in zip(*iterators):\n",
    "        content_img = tf.expand_dims(tf.image.decode_image(tf.io.read_file(content_path)), 0)\n",
    "        style_img = tf.expand_dims(tf.image.decode_image(tf.io.read_file(style_path)), 0)\n",
    "        output = model(content_img, style_img, alpha=1, save_content_colors=False)\n",
    "        grid.add_trace(\n",
    "            px.imshow(content_img[0]).data[0],\n",
    "            row=row,\n",
    "            col=1\n",
    "        ).add_trace(\n",
    "            px.imshow(output[0]).data[0],\n",
    "            row=row,\n",
    "            col=2\n",
    "        ).add_trace(\n",
    "            px.imshow(style_img[0]).data[0],\n",
    "            row=row,\n",
    "            col=3\n",
    "        ).update_layout(\n",
    "            width=1400,\n",
    "            height=1400\n",
    "        ).update_xaxes(\n",
    "            visible=False\n",
    "        ).update_yaxes(\n",
    "            visible=False\n",
    "        ).write_image(f'examples/{model_name}.png')"
   ]
  },
  {
   "cell_type": "code",
   "execution_count": 4,
   "metadata": {},
   "outputs": [],
   "source": [
    "# kernel = np.ones((3, 3), np.float32) / 9\n",
    "# smoothed = cv.filter2D(rec[0].numpy(), -1, kernel)\n",
    "# px.imshow(rec[0])"
   ]
  }
 ],
 "metadata": {
  "kernelspec": {
   "display_name": "base",
   "language": "python",
   "name": "python3"
  },
  "language_info": {
   "codemirror_mode": {
    "name": "ipython",
    "version": 3
   },
   "file_extension": ".py",
   "mimetype": "text/x-python",
   "name": "python",
   "nbconvert_exporter": "python",
   "pygments_lexer": "ipython3",
   "version": "3.11.5"
  }
 },
 "nbformat": 4,
 "nbformat_minor": 2
}

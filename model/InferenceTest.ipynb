{
 "cells": [
  {
   "cell_type": "markdown",
   "metadata": {},
   "source": [
    "# <center>Результаты модели переноса стиля *Adaptive Instance Normalization* в условиях инференса<center>"
   ]
  },
  {
   "cell_type": "code",
   "execution_count": 1,
   "metadata": {},
   "outputs": [],
   "source": [
    "import os\n",
    "os.environ['TF_CPP_MIN_LOG_LEVEL'] = '3' \n",
    "import keras\n",
    "import tensorflow as tf\n",
    "import plotly.express as px\n",
    "import warnings\n",
    "# import cv2 as cv\n",
    "import plotly.io as pio\n",
    "from plotly.subplots import make_subplots\n",
    "pio.renderers.default = 'png'\n",
    "pio.templates.default = 'plotly_dark'\n",
    "IMAGES_FOLDER = '/mnt/s/CV/StyleTransferData/'\n",
    "STYLE_FOLDER = os.path.join(IMAGES_FOLDER, 'wikiart_styles')"
   ]
  },
  {
   "cell_type": "markdown",
   "metadata": {},
   "source": [
    "Возьмем одно изображение и 6 разных стилей"
   ]
  },
  {
   "cell_type": "code",
   "execution_count": 2,
   "metadata": {},
   "outputs": [],
   "source": [
    "content = '/mnt/s/CV/StyleTransferData/test2015/COCO_test2015_000000011864.jpg'\n",
    "styles = [\n",
    "    '/mnt/s/CV/StyleTransferData/woman_with_hat_matisse.jpg',\n",
    "    '/mnt/s/CV/StyleTransferData/wikiart/Cubism/albert-gleizes_femmes-cousant-1913.jpg',\n",
    "    '/mnt/s/CV/StyleTransferData/wikiart/Abstract_Expressionism/walter-battiss_bosveld.jpg',\n",
    "    '/mnt/s/CV/StyleTransferData/wikiart/Fauvism/adam-baltatu_house-on-siret-valley.jpg',\n",
    "    '/mnt/s/CV/StyleTransferData/wikiart/Fauvism/alberto-magnelli_the-cafe-1914.jpg',\n",
    "    '/mnt/s/CV/StyleTransferData/sketch.png'\n",
    "]"
   ]
  },
  {
   "cell_type": "markdown",
   "metadata": {},
   "source": [
    "Сохраним несколько изображений, используя разные чекпоинты обучения (каждый чекпоинт - отдельная эпоха)\n",
    "\n",
    "Есть 5 чекпоинтов модели, у которой $\\lambda=1$ (`model_{epoch}.keras`), также есть 5 чекпоинтов модели с $\\lambda=20$ (`model_20_style_loss_{epoch}.keras.png`) \n",
    "\n",
    "Напишем функцию, чтобы сохранять полученные результаты в виде таблицы с тремя столбцами: контент, сгенерированное изображение, стиль"
   ]
  },
  {
   "cell_type": "code",
   "execution_count": 5,
   "metadata": {},
   "outputs": [],
   "source": [
    "def save_outputs(model_names:list, save_content_colors:bool):\n",
    "    for model_name in model_names:\n",
    "        with warnings.catch_warnings():\n",
    "            warnings.simplefilter('ignore')\n",
    "            model = keras.models.load_model(os.path.join('checkpoint', model_name))\n",
    "        model_name = model_name.rstrip('.keras')\n",
    "        grid = make_subplots(\n",
    "            rows=len(styles), \n",
    "            cols=3, \n",
    "            subplot_titles=['Content', 'Generated', 'Style'],\n",
    "            x_title=model_name,\n",
    "            horizontal_spacing=0.02, \n",
    "            vertical_spacing=0.02\n",
    "        )\n",
    "        iterators = [\n",
    "            [content]*(len(styles)), \n",
    "            styles,\n",
    "            (range(1, len(styles)+1)),\n",
    "        ]\n",
    "        for content_path, style_path, row in zip(*iterators):\n",
    "            content_img = tf.expand_dims(tf.image.decode_image(tf.io.read_file(content_path)), 0)\n",
    "            style_img = tf.expand_dims(tf.image.decode_image(tf.io.read_file(style_path)), 0)\n",
    "            output = model.predict(content_img, style_img, alpha=1, save_content_colors=save_content_colors)\n",
    "            grid.add_trace(\n",
    "                px.imshow(content_img[0]).data[0],\n",
    "                row=row,\n",
    "                col=1\n",
    "            ).add_trace(\n",
    "                px.imshow(output[0]).data[0],\n",
    "                row=row,\n",
    "                col=2\n",
    "            ).add_trace(\n",
    "                px.imshow(style_img[0]).data[0],\n",
    "                row=row,\n",
    "                col=3\n",
    "            ).update_layout(\n",
    "                width=1400,\n",
    "                height=len(styles)*600\n",
    "            ).update_xaxes(\n",
    "                visible=False\n",
    "            ).update_yaxes(\n",
    "                visible=False\n",
    "            ).write_image(f'examples/{model_name}_{save_content_colors}.png')"
   ]
  },
  {
   "cell_type": "code",
   "execution_count": 6,
   "metadata": {},
   "outputs": [
    {
     "name": "stderr",
     "output_type": "stream",
     "text": [
      "WARNING:absl:Skipping variable loading for optimizer 'Adam', because it has 1 variables whereas the saved optimizer has 37 variables. \n",
      "WARNING:absl:Skipping variable loading for optimizer 'Adam', because it has 1 variables whereas the saved optimizer has 37 variables. \n",
      "WARNING:absl:Skipping variable loading for optimizer 'Adam', because it has 1 variables whereas the saved optimizer has 37 variables. \n",
      "WARNING:absl:Skipping variable loading for optimizer 'Adam', because it has 1 variables whereas the saved optimizer has 37 variables. \n",
      "WARNING:absl:Skipping variable loading for optimizer 'Adam', because it has 1 variables whereas the saved optimizer has 37 variables. \n"
     ]
    }
   ],
   "source": [
    "save_outputs(os.listdir('checkpoint'), save_content_colors=False)"
   ]
  },
  {
   "cell_type": "markdown",
   "metadata": {},
   "source": [
    "## <center>Первая эпоха\n",
    "![](examples/style_model_1_False.png)\n",
    "\n",
    "## <center>Пятая эпоха\n",
    "![](examples/style_model_5_False.png)"
   ]
  },
  {
   "cell_type": "markdown",
   "metadata": {},
   "source": [
    "Можно заметить, что лучше всего стиль передаёт последняя модель на пятой эпохе, у которой вес функции потерь стиля $\\lambda=20$\n",
    "\n",
    "Теперь сделаем сравнение последнего изображения с параметром `save_content_colors=True`. Этот параметр должен сохранять цвета оригинального изображения, перенося гистограмму контента на гистограмму стиля с помощью метода `match_histograms` из библиотеки `skimage`"
   ]
  },
  {
   "cell_type": "code",
   "execution_count": 7,
   "metadata": {},
   "outputs": [
    {
     "name": "stderr",
     "output_type": "stream",
     "text": [
      "WARNING:absl:Skipping variable loading for optimizer 'Adam', because it has 1 variables whereas the saved optimizer has 37 variables. \n"
     ]
    }
   ],
   "source": [
    "save_outputs(model_names=['style_model_5.keras'], save_content_colors=True)"
   ]
  },
  {
   "cell_type": "markdown",
   "metadata": {},
   "source": [
    "![](examples/style_model_5_True.png)"
   ]
  },
  {
   "cell_type": "markdown",
   "metadata": {},
   "source": [
    "Больше всего заметна разница на третьем примере. Был черный рисунок со светлыми акцентами, а с параметром `save_content_colors=True` стал цветным. \n",
    "\n",
    "Теперь сравним влияние параметра `alpha`, отвечающего за интерполяцию между контентом и стилем. По-умолчанию `alpha=1`"
   ]
  },
  {
   "cell_type": "code",
   "execution_count": 8,
   "metadata": {},
   "outputs": [
    {
     "name": "stderr",
     "output_type": "stream",
     "text": [
      "WARNING:absl:Skipping variable loading for optimizer 'Adam', because it has 1 variables whereas the saved optimizer has 37 variables. \n"
     ]
    }
   ],
   "source": [
    "with warnings.catch_warnings():\n",
    "    warnings.simplefilter('ignore')\n",
    "    model = keras.models.load_model('checkpoint/style_model_5.keras')\n",
    "    model.training = False"
   ]
  },
  {
   "cell_type": "code",
   "execution_count": 9,
   "metadata": {},
   "outputs": [],
   "source": [
    "alpha_thresh = tf.linspace(0.0, 1, 9).numpy()\n",
    "grid = make_subplots(\n",
    "    rows=3, \n",
    "    cols=3, \n",
    "    subplot_titles=['alpha='+str(alpha) for alpha in alpha_thresh],\n",
    "    horizontal_spacing=1e-2,\n",
    "    vertical_spacing=1e-1\n",
    ")\n",
    "content_img = tf.expand_dims(tf.io.decode_image(tf.io.read_file(content)), 0)\n",
    "style_img = tf.expand_dims(tf.io.decode_image(tf.io.read_file(styles[-1])), 0)\n",
    "iterators = [\n",
    "    sorted(list(range(1, 4))*3),\n",
    "    list(range(1, 4))*3,\n",
    "    alpha_thresh\n",
    "]\n",
    "for row, col, alpha in zip(*iterators):\n",
    "    output_img = model.predict(content_img, style_img, alpha=alpha)[0]\n",
    "    grid.add_trace(\n",
    "        px.imshow(output_img, title=str(alpha)).data[0],\n",
    "        row=row,\n",
    "        col=col\n",
    "    )\n",
    "grid.update_layout(\n",
    "    width=1400,\n",
    "    height=1400,\n",
    "    title='<b>Сравнение выхода модели с разным уровнем <i>alpha</i></b>',\n",
    "    title_x=0.5\n",
    ").update_xaxes(\n",
    "    visible=False\n",
    ").update_yaxes(\n",
    "    visible=False\n",
    ").write_image('examples/alpha_thresholds.png')"
   ]
  },
  {
   "cell_type": "markdown",
   "metadata": {},
   "source": [
    "![](examples/alpha_thresholds.png)"
   ]
  }
 ],
 "metadata": {
  "kernelspec": {
   "display_name": "base",
   "language": "python",
   "name": "python3"
  },
  "language_info": {
   "codemirror_mode": {
    "name": "ipython",
    "version": 3
   },
   "file_extension": ".py",
   "mimetype": "text/x-python",
   "name": "python",
   "nbconvert_exporter": "python",
   "pygments_lexer": "ipython3",
   "version": "3.11.5"
  }
 },
 "nbformat": 4,
 "nbformat_minor": 2
}

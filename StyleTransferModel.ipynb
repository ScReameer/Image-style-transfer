{
 "cells": [
  {
   "cell_type": "markdown",
   "metadata": {},
   "source": [
    "# <center>Перенос стиля с помощью архитектуры *Adaptive Instance Normalization*</center>\n",
    "Сделаем необходимые импорты и инициализируем константы"
   ]
  },
  {
   "cell_type": "code",
   "execution_count": 1,
   "metadata": {},
   "outputs": [
    {
     "data": {
      "text/plain": [
       "[PhysicalDevice(name='/physical_device:CPU:0', device_type='CPU'),\n",
       " PhysicalDevice(name='/physical_device:GPU:0', device_type='GPU')]"
      ]
     },
     "execution_count": 1,
     "metadata": {},
     "output_type": "execute_result"
    }
   ],
   "source": [
    "import os\n",
    "# Less tensorflow backend logging\n",
    "os.environ['TF_CPP_MIN_LOG_LEVEL'] = '3' \n",
    "import keras\n",
    "import tensorflow as tf\n",
    "from net.style_autoencoder import StyleTransfer\n",
    "IMAGES_FOLDER = '/mnt/s/CV/StyleTransferData/'\n",
    "CONTENT_FOLDER = os.path.join(IMAGES_FOLDER, 'test2015')\n",
    "STYLE_FOLDER = os.path.join(IMAGES_FOLDER, 'wikiart')\n",
    "BATCH_SIZE = 8\n",
    "EPOCHS = 5\n",
    "IMG_SIZE = (256, 256)\n",
    "tf.config.list_physical_devices()"
   ]
  },
  {
   "cell_type": "markdown",
   "metadata": {},
   "source": [
    "Напишем функцию для удаления повреждённых файлов (необходимо раскомментировать последние 2 строки ячейки, если появляются проблемы с чтением файлов во время обучения)"
   ]
  },
  {
   "cell_type": "code",
   "execution_count": 2,
   "metadata": {},
   "outputs": [],
   "source": [
    "def delete_corrupted_imgs(path) -> None:\n",
    "    def remove(file) -> None:\n",
    "        print('=='*10)\n",
    "        os.remove(os.path.join(path, file))\n",
    "        print(f'Deleted corrupted {file}')\n",
    "        \n",
    "    files = os.listdir(path)\n",
    "    for file in files:\n",
    "        try:\n",
    "            # Throws exception or returns None if image file corrupted\n",
    "            img = tf.image.decode_jpeg(tf.io.read_file(os.path.join(path, file)))\n",
    "            if img is None:\n",
    "                remove(file)\n",
    "        except Exception as e:\n",
    "            remove(file)\n",
    "\n",
    "# delete_corrupted_imgs(STYLE_FOLDER)\n",
    "# delete_corrupted_imgs(CONTENT_FOLDER)"
   ]
  },
  {
   "cell_type": "markdown",
   "metadata": {},
   "source": [
    "Инициализируем 2 датасета: `content_dataset` - для изображений контента и `style_dataset` - для стилей, объединим их с помощью `tf.data.Dataset.zip` в один датасет."
   ]
  },
  {
   "cell_type": "code",
   "execution_count": 3,
   "metadata": {},
   "outputs": [
    {
     "name": "stdout",
     "output_type": "stream",
     "text": [
      "Found 81434 files belonging to 1 classes.\n",
      "Found 81434 files belonging to 1 classes.\n"
     ]
    }
   ],
   "source": [
    "dataset_config = dict(\n",
    "    label_mode=None, \n",
    "    labels=None,\n",
    "    shuffle=True,\n",
    "    image_size=IMG_SIZE,\n",
    "    batch_size=None,\n",
    "    crop_to_aspect_ratio=True\n",
    ")\n",
    "\n",
    "content_dataset = keras.utils.image_dataset_from_directory(\n",
    "    CONTENT_FOLDER,\n",
    "    **dataset_config\n",
    ")\n",
    "style_dataset = keras.utils.image_dataset_from_directory(\n",
    "    STYLE_FOLDER,\n",
    "    **dataset_config\n",
    ")\n",
    "\n",
    "dataset = tf.data.Dataset.zip((content_dataset, style_dataset)).batch(BATCH_SIZE, drop_remainder=True)"
   ]
  },
  {
   "cell_type": "markdown",
   "metadata": {},
   "source": [
    "[<b>Ссылка на оригинальную статью <i>AdaIN</i></b>](https://arxiv.org/pdf/1703.06868.pdf)\n",
    "\n",
    "[<b>Моя реализация данной модели на <i>Keras / Tensorflow</i></b>](net/style_autoencoder.py)\n",
    "\n",
    "В отличии от оригинального решения, я использовал вес функции потерь стиля $\\lambda = 10$ вместо $\\lambda = 0.01$, чтобы получить \"больше стиля\" в результирующем изображении"
   ]
  },
  {
   "cell_type": "code",
   "execution_count": 6,
   "metadata": {},
   "outputs": [
    {
     "name": "stdout",
     "output_type": "stream",
     "text": [
      "Model: \"style_transfer_2\"\n",
      "_________________________________________________________________\n",
      " Layer (type)                Output Shape              Param #   \n",
      "=================================================================\n",
      " ada_in_2 (AdaIN)            multiple                  0         \n",
      "                                                                 \n",
      " encoder_2 (Encoder)         multiple                  3505728   \n",
      "                                                                 \n",
      " decoder_2 (Decoder)         multiple                  3505219   \n",
      "                                                                 \n",
      "=================================================================\n",
      "Total params: 7010955 (26.74 MB)\n",
      "Trainable params: 3505219 (13.37 MB)\n",
      "Non-trainable params: 3505736 (13.37 MB)\n",
      "_________________________________________________________________\n"
     ]
    }
   ],
   "source": [
    "model = StyleTransfer()\n",
    "optimizer = keras.optimizers.Adam(\n",
    "    learning_rate=keras.optimizers.schedules.InverseTimeDecay(\n",
    "        initial_learning_rate=1e-4,\n",
    "        # Reduce lr every 10 steps\n",
    "        decay_steps=10,\n",
    "        decay_rate=5e-5\n",
    "    )\n",
    ")\n",
    "loss_fn = keras.losses.MeanSquaredError()\n",
    "model.compile(optimizer=optimizer, loss_fn=loss_fn)\n",
    "# 2 - (content, style), None's - (B, H, W), 3 - channels\n",
    "model.build(input_shape=(2, None, None, None, 3))\n",
    "model.summary()"
   ]
  },
  {
   "cell_type": "markdown",
   "metadata": {},
   "source": [
    "Обучаем модель"
   ]
  },
  {
   "cell_type": "code",
   "execution_count": 7,
   "metadata": {},
   "outputs": [
    {
     "name": "stdout",
     "output_type": "stream",
     "text": [
      "Epoch 1/5\n"
     ]
    },
    {
     "name": "stderr",
     "output_type": "stream",
     "text": [
      "WARNING: All log messages before absl::InitializeLog() is called are written to STDERR\n",
      "I0000 00:00:1710407899.975024    8033 device_compiler.h:186] Compiled cluster using XLA!  This line is logged at most once for the lifetime of the process.\n"
     ]
    },
    {
     "name": "stdout",
     "output_type": "stream",
     "text": [
      "10179/10179 [==============================] - 1375s 134ms/step - style_loss: 439565.4062 - content_loss: 336777.1875 - total_loss: 776342.6875 - learning_rate: 9.7539e-05\n",
      "Epoch 2/5\n",
      "10179/10179 [==============================] - 1451s 142ms/step - style_loss: 265485.1875 - content_loss: 245536.0156 - total_loss: 511021.6875 - learning_rate: 9.2925e-05\n",
      "Epoch 3/5\n",
      "10179/10179 [==============================] - 1382s 135ms/step - style_loss: 237794.5000 - content_loss: 222680.7656 - total_loss: 460476.7188 - learning_rate: 8.8728e-05\n",
      "Epoch 4/5\n",
      "10179/10179 [==============================] - 1372s 135ms/step - style_loss: 222228.3438 - content_loss: 210117.9219 - total_loss: 432345.8125 - learning_rate: 8.4893e-05\n",
      "Epoch 5/5\n",
      "10179/10179 [==============================] - 1370s 134ms/step - style_loss: 211999.8594 - content_loss: 201801.8594 - total_loss: 413802.5312 - learning_rate: 8.1377e-05\n"
     ]
    }
   ],
   "source": [
    "history = model.fit(\n",
    "    dataset,\n",
    "    epochs=EPOCHS,\n",
    "    callbacks=[\n",
    "        # Save model after every epoch without rewrite\n",
    "        keras.callbacks.ModelCheckpoint(\n",
    "            './checkpoint/style_model_{epoch}.keras',\n",
    "            monitor='total_loss',\n",
    "            save_best_only=False,\n",
    "            save_freq='epoch'\n",
    "        )\n",
    "    ]\n",
    ")"
   ]
  },
  {
   "cell_type": "markdown",
   "metadata": {},
   "source": [
    "Результаты обучения будут в [<b>другом ноутбуке</b>](InferenceTest.ipynb)"
   ]
  }
 ],
 "metadata": {
  "kernelspec": {
   "display_name": "base",
   "language": "python",
   "name": "python3"
  },
  "language_info": {
   "codemirror_mode": {
    "name": "ipython",
    "version": 3
   },
   "file_extension": ".py",
   "mimetype": "text/x-python",
   "name": "python",
   "nbconvert_exporter": "python",
   "pygments_lexer": "ipython3",
   "version": "3.11.5"
  }
 },
 "nbformat": 4,
 "nbformat_minor": 2
}

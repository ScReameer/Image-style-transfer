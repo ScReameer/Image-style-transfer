{
 "cells": [
  {
   "cell_type": "code",
   "execution_count": 1,
   "metadata": {},
   "outputs": [],
   "source": [
    "import os\n",
    "os.environ['TF_CPP_MIN_LOG_LEVEL'] = '3' \n",
    "import tensorflow as tf\n",
    "import keras"
   ]
  },
  {
   "cell_type": "code",
   "execution_count": 5,
   "metadata": {},
   "outputs": [
    {
     "name": "stdout",
     "output_type": "stream",
     "text": [
      "Model: \"style_transfer_2\"\n",
      "_________________________________________________________________\n",
      " Layer (type)                Output Shape              Param #   \n",
      "=================================================================\n",
      " ada_in_2 (AdaIN)            multiple                  0         \n",
      "                                                                 \n",
      " encoder_2 (Encoder)         multiple                  3505728   \n",
      "                                                                 \n",
      " decoder_2 (Decoder)         multiple                  3505219   \n",
      "                                                                 \n",
      "=================================================================\n",
      "Total params: 7010955 (26.74 MB)\n",
      "Trainable params: 0 (0.00 Byte)\n",
      "Non-trainable params: 7010955 (26.74 MB)\n",
      "_________________________________________________________________\n"
     ]
    }
   ],
   "source": [
    "model = keras.models.load_model('checkpoint/style_model_5.keras', compile=False)\n",
    "model.trainable = False\n",
    "model(tf.random.normal((2, 1, 512, 512, 3)))\n",
    "model.summary()"
   ]
  },
  {
   "cell_type": "code",
   "execution_count": 6,
   "metadata": {},
   "outputs": [
    {
     "name": "stdout",
     "output_type": "stream",
     "text": [
      "INFO:tensorflow:Assets written to: /tmp/tmpjw09qxjb/assets\n"
     ]
    },
    {
     "name": "stderr",
     "output_type": "stream",
     "text": [
      "INFO:tensorflow:Assets written to: /tmp/tmpjw09qxjb/assets\n",
      "Summary on the non-converted ops:\n",
      "---------------------------------\n",
      " * Accepted dialects: tfl, builtin, func\n",
      " * Non-Converted Ops: 31, Total Ops 135, % non-converted = 22.96 %\n",
      " * 31 ARITH ops\n",
      "\n",
      "- arith.constant:   31 occurrences  (f32: 20, i32: 11)\n",
      "\n",
      "\n",
      "\n",
      "  (f32: 3)\n",
      "  (f32: 27)\n",
      "  (f32: 6)\n",
      "  (f32: 4)\n",
      "  (f32: 27)\n",
      "  (f32: 2)\n",
      "  (uq_8: 18)\n",
      "  (f32: 3)\n",
      "  (f32: 2)\n",
      "  (f32: 1)\n",
      "  (f32: 1)\n",
      "  (f32: 2)\n",
      "  (f32: 2)\n",
      "  (f32: 3)\n"
     ]
    }
   ],
   "source": [
    "converter = tf.lite.TFLiteConverter.from_keras_model(model)\n",
    "converter.optimizations = [tf.lite.Optimize.DEFAULT]\n",
    "converted = converter.convert()\n",
    "with open('model.tflite', 'wb') as f:\n",
    "    f.write(converted)"
   ]
  }
 ],
 "metadata": {
  "kernelspec": {
   "display_name": "base",
   "language": "python",
   "name": "python3"
  },
  "language_info": {
   "codemirror_mode": {
    "name": "ipython",
    "version": 3
   },
   "file_extension": ".py",
   "mimetype": "text/x-python",
   "name": "python",
   "nbconvert_exporter": "python",
   "pygments_lexer": "ipython3",
   "version": "3.11.5"
  }
 },
 "nbformat": 4,
 "nbformat_minor": 2
}

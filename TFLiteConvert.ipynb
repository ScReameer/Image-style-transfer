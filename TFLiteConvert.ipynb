{
 "cells": [
  {
   "cell_type": "code",
   "execution_count": 1,
   "metadata": {},
   "outputs": [],
   "source": [
    "import os\n",
    "os.environ['TF_CPP_MIN_LOG_LEVEL'] = '3' \n",
    "import tensorflow as tf\n",
    "import keras\n",
    "from net.style_autoencoder import StyleTransfer"
   ]
  },
  {
   "cell_type": "code",
   "execution_count": 2,
   "metadata": {},
   "outputs": [
    {
     "name": "stdout",
     "output_type": "stream",
     "text": [
      "Model: \"style_transfer\"\n",
      "_________________________________________________________________\n",
      " Layer (type)                Output Shape              Param #   \n",
      "=================================================================\n",
      " ada_in (AdaIN)              multiple                  0         \n",
      "                                                                 \n",
      " encoder (Encoder)           multiple                  3505728   \n",
      "                                                                 \n",
      " decoder (Decoder)           multiple                  3505219   \n",
      "                                                                 \n",
      "=================================================================\n",
      "Total params: 7010955 (26.74 MB)\n",
      "Trainable params: 3505219 (13.37 MB)\n",
      "Non-trainable params: 3505736 (13.37 MB)\n",
      "_________________________________________________________________\n"
     ]
    }
   ],
   "source": [
    "model = StyleTransfer()\n",
    "optimizer = keras.optimizers.Adam(\n",
    "    learning_rate=keras.optimizers.schedules.InverseTimeDecay(\n",
    "        initial_learning_rate=1e-4,\n",
    "        decay_steps=10,\n",
    "        decay_rate=5e-5\n",
    "    )\n",
    ")\n",
    "loss_fn = keras.losses.MeanSquaredError()\n",
    "model.compile(optimizer=optimizer, loss_fn=loss_fn)\n",
    "model.build(input_shape=(2, None, None, None, 3))\n",
    "model.summary()"
   ]
  },
  {
   "cell_type": "code",
   "execution_count": 2,
   "metadata": {},
   "outputs": [
    {
     "name": "stdout",
     "output_type": "stream",
     "text": [
      "Model: \"style_transfer_2\"\n",
      "_________________________________________________________________\n",
      " Layer (type)                Output Shape              Param #   \n",
      "=================================================================\n",
      " ada_in (AdaIN)              multiple                  0         \n",
      "                                                                 \n",
      " encoder (Encoder)           multiple                  3505728   \n",
      "                                                                 \n",
      " decoder (Decoder)           multiple                  3505219   \n",
      "                                                                 \n",
      "=================================================================\n",
      "Total params: 7010955 (26.74 MB)\n",
      "Trainable params: 0 (0.00 Byte)\n",
      "Non-trainable params: 7010955 (26.74 MB)\n",
      "_________________________________________________________________\n"
     ]
    }
   ],
   "source": [
    "# sz = (512, 512)\n",
    "model = keras.models.load_model('checkpoint/style_model_5.keras', compile=False)\n",
    "model.trainable = False\n",
    "# model.compile(optimizer=keras.optimizers.Adam(1e-4), loss_fn=keras.losses.MeanSquaredError())\n",
    "# pass data to initialize weights\n",
    "# x = tf.random.normal((2, 1, *sz, 3))\n",
    "# model(x)\n",
    "model.summary()"
   ]
  },
  {
   "cell_type": "code",
   "execution_count": 8,
   "metadata": {},
   "outputs": [
    {
     "name": "stdout",
     "output_type": "stream",
     "text": [
      "INFO:tensorflow:Assets written to: /tmp/tmp30z6ys_i/assets\n"
     ]
    },
    {
     "name": "stderr",
     "output_type": "stream",
     "text": [
      "INFO:tensorflow:Assets written to: /tmp/tmp30z6ys_i/assets\n",
      "Summary on the non-converted ops:\n",
      "---------------------------------\n",
      " * Accepted dialects: tfl, builtin, func\n",
      " * Non-Converted Ops: 26, Total Ops 128, % non-converted = 20.31 %\n",
      " * 26 ARITH ops\n",
      "\n",
      "- arith.constant:   26 occurrences  (f32: 20, i32: 6)\n",
      "\n",
      "\n",
      "\n",
      "  (f32: 3)\n",
      "  (f32: 27)\n",
      "  (f32: 6)\n",
      "  (f32: 4)\n",
      "  (f32: 27)\n",
      "  (f32: 2)\n",
      "  (uq_8: 18)\n",
      "  (f32: 3)\n",
      "  (f32: 2)\n",
      "  (f32: 1)\n",
      "  (f32: 1)\n",
      "  (f32: 2)\n",
      "  (f32: 3)\n"
     ]
    }
   ],
   "source": [
    "converter = tf.lite.TFLiteConverter.from_keras_model(model)\n",
    "converter.optimizations = [tf.lite.Optimize.DEFAULT]\n",
    "converted = converter.convert()\n",
    "with open('model.tflite', 'wb') as f:\n",
    "    f.write(converted)"
   ]
  }
 ],
 "metadata": {
  "kernelspec": {
   "display_name": "base",
   "language": "python",
   "name": "python3"
  },
  "language_info": {
   "codemirror_mode": {
    "name": "ipython",
    "version": 3
   },
   "file_extension": ".py",
   "mimetype": "text/x-python",
   "name": "python",
   "nbconvert_exporter": "python",
   "pygments_lexer": "ipython3",
   "version": "3.11.5"
  }
 },
 "nbformat": 4,
 "nbformat_minor": 2
}

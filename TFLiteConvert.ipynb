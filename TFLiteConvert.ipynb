{
 "cells": [
  {
   "cell_type": "code",
   "execution_count": 1,
   "metadata": {},
   "outputs": [],
   "source": [
    "import os\n",
    "os.environ['TF_CPP_MIN_LOG_LEVEL'] = '3' \n",
    "import tensorflow as tf\n",
    "import keras\n",
    "import plotly.express as px\n",
    "import numpy as np\n",
    "import tensorflow_model_optimization as tfmot"
   ]
  },
  {
   "cell_type": "code",
   "execution_count": 10,
   "metadata": {},
   "outputs": [
    {
     "name": "stdout",
     "output_type": "stream",
     "text": [
      "Model: \"style_transfer_2\"\n",
      "_________________________________________________________________\n",
      " Layer (type)                Output Shape              Param #   \n",
      "=================================================================\n",
      " ada_in_1 (AdaIN)            multiple                  0         \n",
      "                                                                 \n",
      " encoder_1 (Encoder)         multiple                  3505728   \n",
      "                                                                 \n",
      " decoder_1 (Decoder)         multiple                  3505219   \n",
      "                                                                 \n",
      "=================================================================\n",
      "Total params: 7010955 (26.74 MB)\n",
      "Trainable params: 0 (0.00 Byte)\n",
      "Non-trainable params: 7010955 (26.74 MB)\n",
      "_________________________________________________________________\n"
     ]
    }
   ],
   "source": [
    "model = keras.models.load_model('checkpoint/style_model_5.keras', compile=False)\n",
    "model.trainable = False\n",
    "model(tf.random.normal((2, 1, 512, 512, 3)))\n",
    "# model.build((2, 1, 512, 512, 3))\n",
    "model.summary()"
   ]
  },
  {
   "cell_type": "code",
   "execution_count": 5,
   "metadata": {},
   "outputs": [
    {
     "name": "stdout",
     "output_type": "stream",
     "text": [
      "INFO:tensorflow:Assets written to: /tmp/tmpjsuno1_4/assets\n"
     ]
    },
    {
     "name": "stderr",
     "output_type": "stream",
     "text": [
      "INFO:tensorflow:Assets written to: /tmp/tmpjsuno1_4/assets\n",
      "Summary on the non-converted ops:\n",
      "---------------------------------\n",
      " * Accepted dialects: tfl, builtin, func\n",
      " * Non-Converted Ops: 31, Total Ops 135, % non-converted = 22.96 %\n",
      " * 31 ARITH ops\n",
      "\n",
      "- arith.constant:   31 occurrences  (f32: 20, i32: 11)\n",
      "\n",
      "\n",
      "\n",
      "  (f32: 3)\n",
      "  (f32: 27)\n",
      "  (f32: 6)\n",
      "  (f32: 4)\n",
      "  (f32: 27)\n",
      "  (f32: 2)\n",
      "  (uq_8: 18)\n",
      "  (f32: 3)\n",
      "  (f32: 2)\n",
      "  (f32: 1)\n",
      "  (f32: 1)\n",
      "  (f32: 2)\n",
      "  (f32: 2)\n",
      "  (f32: 3)\n"
     ]
    }
   ],
   "source": [
    "converter = tf.lite.TFLiteConverter.from_keras_model(model)\n",
    "converter.optimizations = [tf.lite.Optimize.DEFAULT]\n",
    "converted = converter.convert()\n",
    "with open('model.tflite', 'wb') as f:\n",
    "    f.write(converted)"
   ]
  },
  {
   "cell_type": "code",
   "execution_count": 33,
   "metadata": {},
   "outputs": [],
   "source": [
    "content = '/mnt/s/CV/StyleTransferData/test2015/COCO_test2015_000000011864.jpg'\n",
    "style = '/mnt/s/CV/StyleTransferData/wikiart_styles/1.jpg'"
   ]
  },
  {
   "cell_type": "code",
   "execution_count": 30,
   "metadata": {},
   "outputs": [],
   "source": [
    "content = tf.image.resize(tf.image.decode_image(tf.io.read_file(content))[tf.newaxis, ...], (512, 512))\n",
    "style = tf.image.resize(tf.image.decode_image(tf.io.read_file(style))[tf.newaxis, ...], (512, 512))\n",
    "input_data = tf.concat((content[tf.newaxis, ...], style[tf.newaxis, ...]), axis=0)"
   ]
  },
  {
   "cell_type": "code",
   "execution_count": 7,
   "metadata": {},
   "outputs": [
    {
     "name": "stderr",
     "output_type": "stream",
     "text": [
      "INFO: Created TensorFlow Lite XNNPACK delegate for CPU.\n"
     ]
    }
   ],
   "source": [
    "interpreterer = tf.lite.Interpreter('model.tflite')\n",
    "interpreterer.allocate_tensors()"
   ]
  },
  {
   "cell_type": "code",
   "execution_count": 8,
   "metadata": {},
   "outputs": [
    {
     "data": {
      "text/plain": [
       "[{'name': 'serving_default_input_1:0',\n",
       "  'index': 0,\n",
       "  'shape': array([  1,   1, 512, 512,   3], dtype=int32),\n",
       "  'shape_signature': array([ -1,   1, 512, 512,   3], dtype=int32),\n",
       "  'dtype': numpy.float32,\n",
       "  'quantization': (0.0, 0),\n",
       "  'quantization_parameters': {'scales': array([], dtype=float32),\n",
       "   'zero_points': array([], dtype=int32),\n",
       "   'quantized_dimension': 0},\n",
       "  'sparsity_parameters': {}}]"
      ]
     },
     "execution_count": 8,
     "metadata": {},
     "output_type": "execute_result"
    }
   ],
   "source": [
    "interpreterer.get_input_details()"
   ]
  }
 ],
 "metadata": {
  "kernelspec": {
   "display_name": "base",
   "language": "python",
   "name": "python3"
  },
  "language_info": {
   "codemirror_mode": {
    "name": "ipython",
    "version": 3
   },
   "file_extension": ".py",
   "mimetype": "text/x-python",
   "name": "python",
   "nbconvert_exporter": "python",
   "pygments_lexer": "ipython3",
   "version": "3.11.5"
  }
 },
 "nbformat": 4,
 "nbformat_minor": 2
}
